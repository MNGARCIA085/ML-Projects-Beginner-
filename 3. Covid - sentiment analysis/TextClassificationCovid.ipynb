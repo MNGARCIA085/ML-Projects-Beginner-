{
 "cells": [
  {
   "cell_type": "markdown",
   "id": "91a3cbe1",
   "metadata": {},
   "source": [
    "# SENTIMENT ANALYSIS COVID"
   ]
  },
  {
   "cell_type": "markdown",
   "id": "a687bd3d",
   "metadata": {},
   "source": [
    "Tabla de contenido"
   ]
  },
  {
   "cell_type": "markdown",
   "id": "758ae271",
   "metadata": {},
   "source": [
    "1. Objetivo\n",
    "\n",
    "<br>\n",
    "Dado un conjunto de tweets, analizar si el sentimiento es positivo o negativo"
   ]
  },
  {
   "cell_type": "markdown",
   "id": "bc61c258",
   "metadata": {},
   "source": [
    "2. Importo librerías y desactivbo warning"
   ]
  },
  {
   "cell_type": "code",
   "execution_count": 1,
   "id": "a28dd707",
   "metadata": {},
   "outputs": [],
   "source": [
    "import os\n",
    "os.environ['TF_CPP_MIN_LOG_LEVEL'] = '3' \n",
    "import tensorflow as tf\n",
    "import pandas as pd\n",
    "import numpy as np\n"
   ]
  },
  {
   "cell_type": "markdown",
   "id": "b1364427",
   "metadata": {},
   "source": [
    "3. Carga y visualización de datos"
   ]
  },
  {
   "cell_type": "markdown",
   "id": "b2a6e919",
   "metadata": {},
   "source": [
    "Tenemos 2 datasets, uno para entrenamiento y otro para test"
   ]
  },
  {
   "cell_type": "code",
   "execution_count": 2,
   "id": "b1d5930c",
   "metadata": {},
   "outputs": [],
   "source": [
    "train_data_pandas = pd.read_csv('data/Corona_NLP_train.csv',encoding='latin-1')\n",
    "test_data_pandas = pd.read_csv('data/Corona_NLP_test.csv',encoding='latin-1')"
   ]
  },
  {
   "cell_type": "markdown",
   "id": "6ac9ca6a",
   "metadata": {},
   "source": [
    "Vemos por ejemplo los datos de entrenamiento"
   ]
  },
  {
   "cell_type": "code",
   "execution_count": 3,
   "id": "c9816c06",
   "metadata": {},
   "outputs": [
    {
     "data": {
      "text/html": [
       "<div>\n",
       "<style scoped>\n",
       "    .dataframe tbody tr th:only-of-type {\n",
       "        vertical-align: middle;\n",
       "    }\n",
       "\n",
       "    .dataframe tbody tr th {\n",
       "        vertical-align: top;\n",
       "    }\n",
       "\n",
       "    .dataframe thead th {\n",
       "        text-align: right;\n",
       "    }\n",
       "</style>\n",
       "<table border=\"1\" class=\"dataframe\">\n",
       "  <thead>\n",
       "    <tr style=\"text-align: right;\">\n",
       "      <th></th>\n",
       "      <th>UserName</th>\n",
       "      <th>ScreenName</th>\n",
       "      <th>Location</th>\n",
       "      <th>TweetAt</th>\n",
       "      <th>OriginalTweet</th>\n",
       "      <th>Sentiment</th>\n",
       "    </tr>\n",
       "  </thead>\n",
       "  <tbody>\n",
       "    <tr>\n",
       "      <th>0</th>\n",
       "      <td>3799</td>\n",
       "      <td>48751</td>\n",
       "      <td>London</td>\n",
       "      <td>16-03-2020</td>\n",
       "      <td>@MeNyrbie @Phil_Gahan @Chrisitv https://t.co/i...</td>\n",
       "      <td>Neutral</td>\n",
       "    </tr>\n",
       "    <tr>\n",
       "      <th>1</th>\n",
       "      <td>3800</td>\n",
       "      <td>48752</td>\n",
       "      <td>UK</td>\n",
       "      <td>16-03-2020</td>\n",
       "      <td>advice Talk to your neighbours family to excha...</td>\n",
       "      <td>Positive</td>\n",
       "    </tr>\n",
       "    <tr>\n",
       "      <th>2</th>\n",
       "      <td>3801</td>\n",
       "      <td>48753</td>\n",
       "      <td>Vagabonds</td>\n",
       "      <td>16-03-2020</td>\n",
       "      <td>Coronavirus Australia: Woolworths to give elde...</td>\n",
       "      <td>Positive</td>\n",
       "    </tr>\n",
       "    <tr>\n",
       "      <th>3</th>\n",
       "      <td>3802</td>\n",
       "      <td>48754</td>\n",
       "      <td>NaN</td>\n",
       "      <td>16-03-2020</td>\n",
       "      <td>My food stock is not the only one which is emp...</td>\n",
       "      <td>Positive</td>\n",
       "    </tr>\n",
       "    <tr>\n",
       "      <th>4</th>\n",
       "      <td>3803</td>\n",
       "      <td>48755</td>\n",
       "      <td>NaN</td>\n",
       "      <td>16-03-2020</td>\n",
       "      <td>Me, ready to go at supermarket during the #COV...</td>\n",
       "      <td>Extremely Negative</td>\n",
       "    </tr>\n",
       "  </tbody>\n",
       "</table>\n",
       "</div>"
      ],
      "text/plain": [
       "   UserName  ScreenName   Location     TweetAt  \\\n",
       "0      3799       48751     London  16-03-2020   \n",
       "1      3800       48752         UK  16-03-2020   \n",
       "2      3801       48753  Vagabonds  16-03-2020   \n",
       "3      3802       48754        NaN  16-03-2020   \n",
       "4      3803       48755        NaN  16-03-2020   \n",
       "\n",
       "                                       OriginalTweet           Sentiment  \n",
       "0  @MeNyrbie @Phil_Gahan @Chrisitv https://t.co/i...             Neutral  \n",
       "1  advice Talk to your neighbours family to excha...            Positive  \n",
       "2  Coronavirus Australia: Woolworths to give elde...            Positive  \n",
       "3  My food stock is not the only one which is emp...            Positive  \n",
       "4  Me, ready to go at supermarket during the #COV...  Extremely Negative  "
      ]
     },
     "execution_count": 3,
     "metadata": {},
     "output_type": "execute_result"
    }
   ],
   "source": [
    "train_data_pandas.head()"
   ]
  },
  {
   "cell_type": "markdown",
   "id": "f65b88ac",
   "metadata": {},
   "source": [
    "Chequeamos test"
   ]
  },
  {
   "cell_type": "code",
   "execution_count": 4,
   "id": "f2e830dc",
   "metadata": {},
   "outputs": [
    {
     "data": {
      "text/html": [
       "<div>\n",
       "<style scoped>\n",
       "    .dataframe tbody tr th:only-of-type {\n",
       "        vertical-align: middle;\n",
       "    }\n",
       "\n",
       "    .dataframe tbody tr th {\n",
       "        vertical-align: top;\n",
       "    }\n",
       "\n",
       "    .dataframe thead th {\n",
       "        text-align: right;\n",
       "    }\n",
       "</style>\n",
       "<table border=\"1\" class=\"dataframe\">\n",
       "  <thead>\n",
       "    <tr style=\"text-align: right;\">\n",
       "      <th></th>\n",
       "      <th>UserName</th>\n",
       "      <th>ScreenName</th>\n",
       "      <th>Location</th>\n",
       "      <th>TweetAt</th>\n",
       "      <th>OriginalTweet</th>\n",
       "      <th>Sentiment</th>\n",
       "    </tr>\n",
       "  </thead>\n",
       "  <tbody>\n",
       "    <tr>\n",
       "      <th>0</th>\n",
       "      <td>1</td>\n",
       "      <td>44953</td>\n",
       "      <td>NYC</td>\n",
       "      <td>02-03-2020</td>\n",
       "      <td>TRENDING: New Yorkers encounter empty supermar...</td>\n",
       "      <td>Extremely Negative</td>\n",
       "    </tr>\n",
       "    <tr>\n",
       "      <th>1</th>\n",
       "      <td>2</td>\n",
       "      <td>44954</td>\n",
       "      <td>Seattle, WA</td>\n",
       "      <td>02-03-2020</td>\n",
       "      <td>When I couldn't find hand sanitizer at Fred Me...</td>\n",
       "      <td>Positive</td>\n",
       "    </tr>\n",
       "    <tr>\n",
       "      <th>2</th>\n",
       "      <td>3</td>\n",
       "      <td>44955</td>\n",
       "      <td>NaN</td>\n",
       "      <td>02-03-2020</td>\n",
       "      <td>Find out how you can protect yourself and love...</td>\n",
       "      <td>Extremely Positive</td>\n",
       "    </tr>\n",
       "    <tr>\n",
       "      <th>3</th>\n",
       "      <td>4</td>\n",
       "      <td>44956</td>\n",
       "      <td>Chicagoland</td>\n",
       "      <td>02-03-2020</td>\n",
       "      <td>#Panic buying hits #NewYork City as anxious sh...</td>\n",
       "      <td>Negative</td>\n",
       "    </tr>\n",
       "    <tr>\n",
       "      <th>4</th>\n",
       "      <td>5</td>\n",
       "      <td>44957</td>\n",
       "      <td>Melbourne, Victoria</td>\n",
       "      <td>03-03-2020</td>\n",
       "      <td>#toiletpaper #dunnypaper #coronavirus #coronav...</td>\n",
       "      <td>Neutral</td>\n",
       "    </tr>\n",
       "  </tbody>\n",
       "</table>\n",
       "</div>"
      ],
      "text/plain": [
       "   UserName  ScreenName             Location     TweetAt  \\\n",
       "0         1       44953                  NYC  02-03-2020   \n",
       "1         2       44954          Seattle, WA  02-03-2020   \n",
       "2         3       44955                  NaN  02-03-2020   \n",
       "3         4       44956          Chicagoland  02-03-2020   \n",
       "4         5       44957  Melbourne, Victoria  03-03-2020   \n",
       "\n",
       "                                       OriginalTweet           Sentiment  \n",
       "0  TRENDING: New Yorkers encounter empty supermar...  Extremely Negative  \n",
       "1  When I couldn't find hand sanitizer at Fred Me...            Positive  \n",
       "2  Find out how you can protect yourself and love...  Extremely Positive  \n",
       "3  #Panic buying hits #NewYork City as anxious sh...            Negative  \n",
       "4  #toiletpaper #dunnypaper #coronavirus #coronav...             Neutral  "
      ]
     },
     "execution_count": 4,
     "metadata": {},
     "output_type": "execute_result"
    }
   ],
   "source": [
    "test_data_pandas.head()"
   ]
  },
  {
   "cell_type": "markdown",
   "id": "a014526d",
   "metadata": {},
   "source": [
    "4. Pre-procesamietno de datos"
   ]
  },
  {
   "cell_type": "markdown",
   "id": "0f640b08",
   "metadata": {},
   "source": [
    "Nos interesaremos en las columnas OriginalTweet y Sentiment; a su vez veremos las distintas opciones de esta última columna"
   ]
  },
  {
   "cell_type": "code",
   "execution_count": 5,
   "id": "f4941b05",
   "metadata": {},
   "outputs": [
    {
     "data": {
      "text/plain": [
       "array(['Neutral', 'Positive', 'Extremely Negative', 'Negative',\n",
       "       'Extremely Positive'], dtype=object)"
      ]
     },
     "execution_count": 5,
     "metadata": {},
     "output_type": "execute_result"
    }
   ],
   "source": [
    "train_data_pandas['Sentiment'].unique()"
   ]
  },
  {
   "cell_type": "markdown",
   "id": "fad6cf76",
   "metadata": {},
   "source": [
    "Convertiremos esta columna a valores numéricos; a su vez no nos interesa ser tan específicos respecto a si un sentimiento es postivo o extremadamente positivo, más bien distinguiremos entre positivo y negativo. Los neutrales los consideraremos positivos. "
   ]
  },
  {
   "cell_type": "code",
   "execution_count": 6,
   "id": "cdbf39bf",
   "metadata": {},
   "outputs": [],
   "source": [
    "label_map = {'Extremely Negative':0,'Negative':0,'Neutral':1,'Positive':1,'Extremely Positive':1}\n",
    "train_data_pandas['Sentiment'] = train_data_pandas['Sentiment'].map(label_map)\n",
    "test_data_pandas['Sentiment'] = test_data_pandas['Sentiment'].map(label_map)"
   ]
  },
  {
   "cell_type": "code",
   "execution_count": 7,
   "id": "670b74cf",
   "metadata": {},
   "outputs": [
    {
     "data": {
      "text/html": [
       "<div>\n",
       "<style scoped>\n",
       "    .dataframe tbody tr th:only-of-type {\n",
       "        vertical-align: middle;\n",
       "    }\n",
       "\n",
       "    .dataframe tbody tr th {\n",
       "        vertical-align: top;\n",
       "    }\n",
       "\n",
       "    .dataframe thead th {\n",
       "        text-align: right;\n",
       "    }\n",
       "</style>\n",
       "<table border=\"1\" class=\"dataframe\">\n",
       "  <thead>\n",
       "    <tr style=\"text-align: right;\">\n",
       "      <th></th>\n",
       "      <th>UserName</th>\n",
       "      <th>ScreenName</th>\n",
       "      <th>Location</th>\n",
       "      <th>TweetAt</th>\n",
       "      <th>OriginalTweet</th>\n",
       "      <th>Sentiment</th>\n",
       "    </tr>\n",
       "  </thead>\n",
       "  <tbody>\n",
       "    <tr>\n",
       "      <th>0</th>\n",
       "      <td>3799</td>\n",
       "      <td>48751</td>\n",
       "      <td>London</td>\n",
       "      <td>16-03-2020</td>\n",
       "      <td>@MeNyrbie @Phil_Gahan @Chrisitv https://t.co/i...</td>\n",
       "      <td>1</td>\n",
       "    </tr>\n",
       "    <tr>\n",
       "      <th>1</th>\n",
       "      <td>3800</td>\n",
       "      <td>48752</td>\n",
       "      <td>UK</td>\n",
       "      <td>16-03-2020</td>\n",
       "      <td>advice Talk to your neighbours family to excha...</td>\n",
       "      <td>1</td>\n",
       "    </tr>\n",
       "    <tr>\n",
       "      <th>2</th>\n",
       "      <td>3801</td>\n",
       "      <td>48753</td>\n",
       "      <td>Vagabonds</td>\n",
       "      <td>16-03-2020</td>\n",
       "      <td>Coronavirus Australia: Woolworths to give elde...</td>\n",
       "      <td>1</td>\n",
       "    </tr>\n",
       "    <tr>\n",
       "      <th>3</th>\n",
       "      <td>3802</td>\n",
       "      <td>48754</td>\n",
       "      <td>NaN</td>\n",
       "      <td>16-03-2020</td>\n",
       "      <td>My food stock is not the only one which is emp...</td>\n",
       "      <td>1</td>\n",
       "    </tr>\n",
       "    <tr>\n",
       "      <th>4</th>\n",
       "      <td>3803</td>\n",
       "      <td>48755</td>\n",
       "      <td>NaN</td>\n",
       "      <td>16-03-2020</td>\n",
       "      <td>Me, ready to go at supermarket during the #COV...</td>\n",
       "      <td>0</td>\n",
       "    </tr>\n",
       "  </tbody>\n",
       "</table>\n",
       "</div>"
      ],
      "text/plain": [
       "   UserName  ScreenName   Location     TweetAt  \\\n",
       "0      3799       48751     London  16-03-2020   \n",
       "1      3800       48752         UK  16-03-2020   \n",
       "2      3801       48753  Vagabonds  16-03-2020   \n",
       "3      3802       48754        NaN  16-03-2020   \n",
       "4      3803       48755        NaN  16-03-2020   \n",
       "\n",
       "                                       OriginalTweet  Sentiment  \n",
       "0  @MeNyrbie @Phil_Gahan @Chrisitv https://t.co/i...          1  \n",
       "1  advice Talk to your neighbours family to excha...          1  \n",
       "2  Coronavirus Australia: Woolworths to give elde...          1  \n",
       "3  My food stock is not the only one which is emp...          1  \n",
       "4  Me, ready to go at supermarket during the #COV...          0  "
      ]
     },
     "execution_count": 7,
     "metadata": {},
     "output_type": "execute_result"
    }
   ],
   "source": [
    "train_data_pandas.head()"
   ]
  },
  {
   "cell_type": "code",
   "execution_count": 8,
   "id": "0cca29d0",
   "metadata": {},
   "outputs": [
    {
     "name": "stdout",
     "output_type": "stream",
     "text": [
      "Datos faltantes train:\n",
      " UserName            0\n",
      "ScreenName          0\n",
      "Location         8590\n",
      "TweetAt             0\n",
      "OriginalTweet       0\n",
      "Sentiment           0\n",
      "dtype: int64 \n",
      "\n",
      "Datos faltantes test:\n",
      " UserName           0\n",
      "ScreenName         0\n",
      "Location         834\n",
      "TweetAt            0\n",
      "OriginalTweet      0\n",
      "Sentiment          0\n",
      "dtype: int64\n"
     ]
    }
   ],
   "source": [
    "print(f'Datos faltantes train:\\n {train_data_pandas.isnull().sum()} \\n')\n",
    "print(f'Datos faltantes test:\\n {test_data_pandas.isnull().sum()}')"
   ]
  },
  {
   "cell_type": "markdown",
   "id": "3688287d",
   "metadata": {},
   "source": [
    "Vemos que no hay datos faltantes en las columnas que nos interesan\n"
   ]
  },
  {
   "cell_type": "markdown",
   "id": "d13d6df0",
   "metadata": {},
   "source": [
    "Vamos ahora a crear los datasets para trabajar con tensorflow"
   ]
  },
  {
   "cell_type": "code",
   "execution_count": 9,
   "id": "12daafb8",
   "metadata": {},
   "outputs": [],
   "source": [
    "# Cargar el DataFrame de pandas en un objeto tf.data.Dataset\n",
    "train_dataset = tf.data.Dataset.from_tensor_slices((train_data_pandas['OriginalTweet'].values, \n",
    "                                              train_data_pandas['Sentiment'].values))\n"
   ]
  },
  {
   "cell_type": "code",
   "execution_count": 10,
   "id": "8898dd24",
   "metadata": {},
   "outputs": [
    {
     "name": "stdout",
     "output_type": "stream",
     "text": [
      "text:  b'@MeNyrbie @Phil_Gahan @Chrisitv https://t.co/iFz9FAn2Pa and https://t.co/xX6ghGFzCC and https://t.co/I2NlzdxNo8'\n",
      "label:  1\n"
     ]
    }
   ],
   "source": [
    "for example, label in train_dataset.take(1):\n",
    "  print('text: ', example.numpy())\n",
    "  print('label: ', label.numpy())"
   ]
  },
  {
   "cell_type": "markdown",
   "id": "2d0dc178",
   "metadata": {},
   "source": [
    "repito para test"
   ]
  },
  {
   "cell_type": "code",
   "execution_count": 11,
   "id": "e21aaf35",
   "metadata": {},
   "outputs": [],
   "source": [
    "# Cargar el DataFrame de pandas en un objeto tf.data.Dataset\n",
    "test_dataset = tf.data.Dataset.from_tensor_slices((test_data_pandas['OriginalTweet'].values, \n",
    "                                                   test_data_pandas['Sentiment'].values))\n"
   ]
  },
  {
   "cell_type": "markdown",
   "id": "92bde845",
   "metadata": {},
   "source": [
    "buffer y batch size"
   ]
  },
  {
   "cell_type": "code",
   "execution_count": 12,
   "id": "2ced5d2f",
   "metadata": {},
   "outputs": [],
   "source": [
    "BUFFER_SIZE = 10000\n",
    "BATCH_SIZE = 64"
   ]
  },
  {
   "cell_type": "markdown",
   "id": "22113bcf",
   "metadata": {},
   "source": [
    "    train_dataset: Es un objeto que representa el dataset de entrenamiento. En TensorFlow, los datasets se pueden representar como objetos de tipo tf.data.Dataset.\n",
    "\n",
    "    shuffle(BUFFER_SIZE): Este método mezcla aleatoriamente los elementos del dataset. BUFFER_SIZE es un parámetro que determina cuántos elementos se mantendrán en el búfer de mezcla antes de tomar una muestra aleatoria. Un valor más grande del BUFFER_SIZE proporcionará una mezcla más aleatoria pero requerirá más memoria para mantener el búfer. La mezcla aleatoria es útil para asegurarse de que los datos se presenten en diferentes órdenes en cada época de entrenamiento, lo que puede ayudar a mejorar el rendimiento del modelo.\n",
    "\n",
    "    batch(BATCH_SIZE): Este método agrupa los elementos del dataset en lotes de tamaño BATCH_SIZE. Un lote es un conjunto de ejemplos que se procesan juntos en cada paso de entrenamiento. Agrupar los datos en lotes permite aprovechar mejor la paralelización en hardware acelerado y agiliza el procesamiento. BATCH_SIZE es un parámetro que determina el tamaño de cada lote.\n",
    "\n",
    "    prefetch(tf.data.AUTOTUNE): El método prefetch se utiliza para cargar los datos de manera anticipada, lo que permite que el procesamiento del modelo avance mientras se cargan los datos para el siguiente paso de entrenamiento. tf.data.AUTOTUNE es un valor especial que le permite a TensorFlow elegir automáticamente el número adecuado de elementos a precargar en función del entorno de ejecución y las capacidades del hardware, lo que maximiza la eficiencia del procesamiento.\n",
    "\n",
    "En resumen, esta línea de código se encarga de mezclar aleatoriamente los datos del dataset de entrenamiento, agruparlos en lotes de tamaño especificado y cargar los lotes de manera anticipada para una ejecución más eficiente del entrenamiento del modelo."
   ]
  },
  {
   "cell_type": "code",
   "execution_count": 13,
   "id": "11e3a983",
   "metadata": {},
   "outputs": [],
   "source": [
    "train_dataset = train_dataset.shuffle(BUFFER_SIZE).batch(BATCH_SIZE).prefetch(tf.data.AUTOTUNE)\n",
    "test_dataset = test_dataset.batch(BATCH_SIZE).prefetch(tf.data.AUTOTUNE)"
   ]
  },
  {
   "cell_type": "markdown",
   "id": "9e3c8c79",
   "metadata": {},
   "source": [
    "Veamos algunos ejemplos y sus etiquetas"
   ]
  },
  {
   "cell_type": "code",
   "execution_count": 14,
   "id": "37df17ac",
   "metadata": {},
   "outputs": [
    {
     "name": "stdout",
     "output_type": "stream",
     "text": [
      "texts:  [b\"#COVID19 loo roll shortages explained: Despite 'sophisticated' consumer behaviour analysis, supermarkets have overlooked the fact that &gt;30M people in UK do their daily business at the workplace. So, WFH will contribute an extra 150,000,000 home-shits per week #coronavirus #math\"\n",
      " b'Consumer behavior is changing due to COVID-19. What stage of consumer spending is your market in? How will it affect your business? https://t.co/bbdXaktRuh https://t.co/gLODnwlBv8'\n",
      " b'There are reports of businesses making a serious profit off the back of #coronavirus by either hiking prices or in the way they treat their staff. This crisis will end &amp; when it does those businesses will be judged harshly. Do the right thing today for a better tomorrow.']\n",
      "\n",
      "labels: , [0 1 1]\n"
     ]
    }
   ],
   "source": [
    "for example, label in train_dataset.take(1):\n",
    "  print(f'texts:  {example.numpy()[:3]}\\n')\n",
    "  print(f'labels: , {label.numpy()[:3]}')"
   ]
  },
  {
   "cell_type": "markdown",
   "id": "702ac158",
   "metadata": {},
   "source": [
    "The raw text loaded by tfds needs to be processed before it can be used in a model. The simplest way to process text for training is using the TextVectorization layer. This layer has many capabilities, but this tutorial sticks to the default behavior.\n",
    "\n",
    "Create the layer, and pass the dataset's text to the layer's .adapt method:"
   ]
  },
  {
   "cell_type": "code",
   "execution_count": 15,
   "id": "8448635a",
   "metadata": {},
   "outputs": [],
   "source": [
    "VOCAB_SIZE = 1000\n",
    "encoder = tf.keras.layers.TextVectorization(\n",
    "    max_tokens=VOCAB_SIZE)\n",
    "encoder.adapt(train_dataset.map(lambda text, label: text))"
   ]
  },
  {
   "cell_type": "markdown",
   "id": "149e5e52",
   "metadata": {},
   "source": [
    "The .adapt method sets the layer's vocabulary. Here are the first 20 tokens. After the padding and unknown tokens they're sorted by frequency: "
   ]
  },
  {
   "cell_type": "code",
   "execution_count": 16,
   "id": "28887096",
   "metadata": {},
   "outputs": [
    {
     "data": {
      "text/plain": [
       "array(['', '[UNK]', 'the', 'to', 'and', 'of', 'a', 'in', 'coronavirus',\n",
       "       'covid19', 'for', 'is', 'are', 'on', 'you', 'i', 'this', 'prices',\n",
       "       'at', 'food'], dtype='<U19')"
      ]
     },
     "execution_count": 16,
     "metadata": {},
     "output_type": "execute_result"
    }
   ],
   "source": [
    "vocab = np.array(encoder.get_vocabulary())\n",
    "vocab[:20]"
   ]
  },
  {
   "cell_type": "markdown",
   "id": "bcf0b181",
   "metadata": {},
   "source": [
    "Once the vocabulary is set, the layer can encode text into indices. The tensors of indices are 0-padded to the longest sequence in the batch (unless you set a fixed output_sequence_length):"
   ]
  },
  {
   "cell_type": "code",
   "execution_count": 17,
   "id": "95bc5441",
   "metadata": {},
   "outputs": [
    {
     "data": {
      "text/plain": [
       "array([[  9,   1, 479, 516,   1, 594,   1,  37, 707,   1, 211,  26,   1,\n",
       "          2,   1,  23,   1,  30,   7, 225,  70,  55, 387, 156,  18,   2,\n",
       "          1,  58,   1,  36,   1,  74, 610,   1,   1, 328, 167,   8,   1,\n",
       "          0,   0,   0,   0,   0,   0,   0,   0,   0,   0,   0,   0],\n",
       "       [ 37, 353,  11, 657,  90,   3,   9,  65,   1,   5,  37, 396,  11,\n",
       "         34, 159,   7,  53,  36,  29,   1,  34, 156,   1,   1,   0,   0,\n",
       "          0,   0,   0,   0,   0,   0,   0,   0,   0,   0,   0,   0,   0,\n",
       "          0,   0,   0,   0,   0,   0,   0,   0,   0,   0,   0,   0],\n",
       "       [ 82,  12, 472,   5, 238, 247,   6, 852,   1, 189,   2, 180,   5,\n",
       "          8,  45,   1, 919,  17,  48,   7,   2, 173,  41,   1,  55, 142,\n",
       "         16,  97,  36, 413,  32,  75,  29, 352, 128, 238,  36,  28,   1,\n",
       "          1,  70,   2, 179, 317, 119,  10,   6, 345, 722,   0,   0]])"
      ]
     },
     "execution_count": 17,
     "metadata": {},
     "output_type": "execute_result"
    }
   ],
   "source": [
    "encoded_example = encoder(example)[:3].numpy()\n",
    "encoded_example"
   ]
  },
  {
   "cell_type": "markdown",
   "id": "09886547",
   "metadata": {},
   "source": [
    "With the default settings, the process is not completely reversible. There are three main reasons for that:\n",
    "\n",
    "    The default value for preprocessing.TextVectorization's standardize argument is \"lower_and_strip_punctuation\".\n",
    "    The limited vocabulary size and lack of character-based fallback results in some unknown tokens.\n"
   ]
  },
  {
   "cell_type": "code",
   "execution_count": 18,
   "id": "67d3faa1",
   "metadata": {},
   "outputs": [
    {
     "name": "stdout",
     "output_type": "stream",
     "text": [
      "Original:  b\"#COVID19 loo roll shortages explained: Despite 'sophisticated' consumer behaviour analysis, supermarkets have overlooked the fact that &gt;30M people in UK do their daily business at the workplace. So, WFH will contribute an extra 150,000,000 home-shits per week #coronavirus #math\"\n",
      "Round-trip:  covid19 [UNK] roll shortages [UNK] despite [UNK] consumer behaviour [UNK] supermarkets have [UNK] the [UNK] that [UNK] people in uk do their daily business at the [UNK] so [UNK] will [UNK] an extra [UNK] [UNK] per week coronavirus [UNK]            \n",
      "\n",
      "Original:  b'Consumer behavior is changing due to COVID-19. What stage of consumer spending is your market in? How will it affect your business? https://t.co/bbdXaktRuh https://t.co/gLODnwlBv8'\n",
      "Round-trip:  consumer behavior is changing due to covid19 what [UNK] of consumer spending is your market in how will it [UNK] your business [UNK] [UNK]                           \n",
      "\n",
      "Original:  b'There are reports of businesses making a serious profit off the back of #coronavirus by either hiking prices or in the way they treat their staff. This crisis will end &amp; when it does those businesses will be judged harshly. Do the right thing today for a better tomorrow.'\n",
      "Round-trip:  there are reports of businesses making a serious [UNK] off the back of coronavirus by [UNK] hiking prices or in the way they [UNK] their staff this crisis will end amp when it does those businesses will be [UNK] [UNK] do the right thing today for a better tomorrow  \n",
      "\n"
     ]
    }
   ],
   "source": [
    "for n in range(3):\n",
    "  print(\"Original: \", example[n].numpy())\n",
    "  print(\"Round-trip: \", \" \".join(vocab[encoded_example[n]]))\n",
    "  print()"
   ]
  },
  {
   "cell_type": "markdown",
   "id": "d5df6b27",
   "metadata": {},
   "source": [
    "# 5. MODELO"
   ]
  },
  {
   "cell_type": "markdown",
   "id": "77230c19",
   "metadata": {},
   "source": [
    "Definimos el modelo, la arquitectura se muestra en la figura siguiente:\n",
    "\n",
    "\n",
    "<img src=\"images/Model.png\"/>\n",
    "\n"
   ]
  },
  {
   "cell_type": "code",
   "execution_count": 19,
   "id": "5f5def98",
   "metadata": {},
   "outputs": [],
   "source": [
    "model = tf.keras.Sequential([\n",
    "    encoder,\n",
    "    tf.keras.layers.Embedding(\n",
    "        input_dim=len(encoder.get_vocabulary()),\n",
    "        output_dim=64,\n",
    "        # Use masking to handle the variable sequence lengths\n",
    "        mask_zero=True),\n",
    "    tf.keras.layers.Bidirectional(tf.keras.layers.LSTM(64)),\n",
    "    tf.keras.layers.Dense(64, activation='relu'),\n",
    "    tf.keras.layers.Dense(1)\n",
    "])"
   ]
  },
  {
   "cell_type": "markdown",
   "id": "48d1f6ce",
   "metadata": {},
   "source": [
    "The embedding layer uses masking to handle the varying sequence-lengths. All the layers after the Embedding support masking:"
   ]
  },
  {
   "cell_type": "code",
   "execution_count": 20,
   "id": "ba9fc646",
   "metadata": {},
   "outputs": [
    {
     "name": "stdout",
     "output_type": "stream",
     "text": [
      "[False, True, True, True, True]\n"
     ]
    }
   ],
   "source": [
    "print([layer.supports_masking for layer in model.layers])"
   ]
  },
  {
   "cell_type": "markdown",
   "id": "fb885d9b",
   "metadata": {},
   "source": [
    "Sentencias de prueba"
   ]
  },
  {
   "cell_type": "code",
   "execution_count": 21,
   "id": "77f71b79",
   "metadata": {},
   "outputs": [
    {
     "name": "stdout",
     "output_type": "stream",
     "text": [
      "1/1 [==============================] - 2s 2s/step\n",
      "[-0.020002]\n"
     ]
    }
   ],
   "source": [
    "sample_text = ('The movie was cool. The animation and the graphics '\n",
    "               'were out of this world. I would recommend this movie')\n",
    "predictions = model.predict(np.array([sample_text]))\n",
    "print(predictions[0])\n"
   ]
  },
  {
   "cell_type": "code",
   "execution_count": 22,
   "id": "4020b3f2",
   "metadata": {},
   "outputs": [
    {
     "name": "stdout",
     "output_type": "stream",
     "text": [
      "1/1 [==============================] - 0s 139ms/step\n",
      "[-0.020002]\n"
     ]
    }
   ],
   "source": [
    "# con una sentencia más larga\n",
    "\n",
    "padding = \"the \" * 2000\n",
    "predictions = model.predict(np.array([sample_text, padding]))\n",
    "print(predictions[0])\n"
   ]
  },
  {
   "cell_type": "markdown",
   "id": "b574c40d",
   "metadata": {},
   "source": [
    "Compilamos; como es un problema con 2 clases usamos BinaryCrossentrpy"
   ]
  },
  {
   "cell_type": "markdown",
   "id": "486f3efe",
   "metadata": {},
   "source": [
    "Implementaremos Learning Rate Scheduler\n"
   ]
  },
  {
   "cell_type": "code",
   "execution_count": 23,
   "id": "f50e5c41",
   "metadata": {},
   "outputs": [],
   "source": [
    "# Definir una función que devuelve la tasa de aprendizaje en función de las épocas\n",
    "def learning_rate_scheduler(epoch):\n",
    "    initial_lr = 1e-4\n",
    "    decay_factor = 0.9\n",
    "    decay_steps = 3\n",
    "    new_lr = initial_lr * decay_factor ** (epoch // decay_steps)\n",
    "    return new_lr # Forzar la conversión a float\n"
   ]
  },
  {
   "cell_type": "code",
   "execution_count": 24,
   "id": "51b6b87b",
   "metadata": {},
   "outputs": [],
   "source": [
    "model.compile(loss=tf.keras.losses.BinaryCrossentropy(from_logits=True),\n",
    "              optimizer=tf.keras.optimizers.Adam(learning_rate=1e-4),\n",
    "              metrics=['accuracy'])"
   ]
  },
  {
   "cell_type": "markdown",
   "id": "5ff125a2",
   "metadata": {},
   "source": [
    "Entrenamos durante 8 epochs"
   ]
  },
  {
   "cell_type": "code",
   "execution_count": 25,
   "id": "0c3e5850",
   "metadata": {},
   "outputs": [
    {
     "name": "stdout",
     "output_type": "stream",
     "text": [
      "Epoch 1/10\n",
      "644/644 [==============================] - 28s 35ms/step - loss: 0.6138 - accuracy: 0.5903 - val_loss: 0.5576 - val_accuracy: 0.7182 - lr: 1.0000e-04\n",
      "Epoch 2/10\n",
      "644/644 [==============================] - 21s 32ms/step - loss: 0.4710 - accuracy: 0.7725 - val_loss: 0.5106 - val_accuracy: 0.7510 - lr: 1.0000e-04\n",
      "Epoch 3/10\n",
      "644/644 [==============================] - 20s 32ms/step - loss: 0.4385 - accuracy: 0.7938 - val_loss: 0.5154 - val_accuracy: 0.7667 - lr: 1.0000e-04\n",
      "Epoch 4/10\n",
      "644/644 [==============================] - 21s 33ms/step - loss: 0.4275 - accuracy: 0.8002 - val_loss: 0.4942 - val_accuracy: 0.7323 - lr: 9.0000e-05\n",
      "Epoch 5/10\n",
      "644/644 [==============================] - 21s 32ms/step - loss: 0.4219 - accuracy: 0.8026 - val_loss: 0.4879 - val_accuracy: 0.7417 - lr: 9.0000e-05\n",
      "Epoch 6/10\n",
      "644/644 [==============================] - 21s 32ms/step - loss: 0.4181 - accuracy: 0.8050 - val_loss: 0.4873 - val_accuracy: 0.7516 - lr: 9.0000e-05\n",
      "Epoch 7/10\n",
      "644/644 [==============================] - 20s 30ms/step - loss: 0.4164 - accuracy: 0.8073 - val_loss: 0.4937 - val_accuracy: 0.7641 - lr: 8.1000e-05\n",
      "Epoch 8/10\n",
      "644/644 [==============================] - 21s 33ms/step - loss: 0.4135 - accuracy: 0.8082 - val_loss: 0.4835 - val_accuracy: 0.7531 - lr: 8.1000e-05\n",
      "Epoch 9/10\n",
      "644/644 [==============================] - 21s 32ms/step - loss: 0.4130 - accuracy: 0.8099 - val_loss: 0.4910 - val_accuracy: 0.7661 - lr: 8.1000e-05\n",
      "Epoch 10/10\n",
      "644/644 [==============================] - 21s 32ms/step - loss: 0.4093 - accuracy: 0.8115 - val_loss: 0.4855 - val_accuracy: 0.7557 - lr: 7.2900e-05\n"
     ]
    }
   ],
   "source": [
    "# Definir el callback de LearningRateScheduler\n",
    "lr_scheduler = tf.keras.callbacks.LearningRateScheduler(learning_rate_scheduler)\n",
    "\n",
    "\n",
    "history = model.fit(\n",
    "                    train_dataset, \n",
    "                    epochs=10,\n",
    "                    validation_data=test_dataset,\n",
    "                    validation_steps=30,\n",
    "                    callbacks=[lr_scheduler])"
   ]
  },
  {
   "cell_type": "markdown",
   "id": "626a57f3",
   "metadata": {},
   "source": [
    "Evaluamos"
   ]
  },
  {
   "cell_type": "code",
   "execution_count": 26,
   "id": "350e5dad",
   "metadata": {},
   "outputs": [
    {
     "name": "stdout",
     "output_type": "stream",
     "text": [
      "60/60 [==============================] - 1s 11ms/step - loss: 0.4800 - accuracy: 0.7620\n"
     ]
    }
   ],
   "source": [
    "test_loss, test_acc = model.evaluate(test_dataset)\n"
   ]
  },
  {
   "cell_type": "code",
   "execution_count": 27,
   "id": "3367a7c7",
   "metadata": {},
   "outputs": [
    {
     "data": {
      "text/plain": [
       "(0.0, 0.6240071058273315)"
      ]
     },
     "execution_count": 27,
     "metadata": {},
     "output_type": "execute_result"
    },
    {
     "data": {
      "image/png": "[encoded data removed]",
      "text/plain": [
       "<Figure size 1000x500 with 2 Axes>"
      ]
     },
     "metadata": {},
     "output_type": "display_data"
    }
   ],
   "source": [
    "import matplotlib.pyplot as plt\n",
    "\n",
    "def plot_graphs(history, metric):\n",
    "  plt.plot(history.history[metric])\n",
    "  plt.plot(history.history['val_'+metric], '')\n",
    "  plt.xlabel(\"Epochs\")\n",
    "  plt.ylabel(metric)\n",
    "  plt.legend([metric, 'val_'+metric])\n",
    "\n",
    "\n",
    "plt.figure(figsize=(10, 5))\n",
    "plt.subplot(1, 2, 1)\n",
    "plot_graphs(history, 'accuracy')\n",
    "plt.title('Accuracy')\n",
    "plt.ylim(None, 1)\n",
    "\n",
    "plt.subplot(1, 2, 2)\n",
    "plot_graphs(history, 'loss')\n",
    "plt.title('Loss')\n",
    "plt.ylim(0, None)\n"
   ]
  },
  {
   "cell_type": "markdown",
   "id": "a176fa19",
   "metadata": {},
   "source": [
    "# 6. AJUSTE DE HIPERPARÁMETROS"
   ]
  },
  {
   "cell_type": "markdown",
   "id": "afe5366f",
   "metadata": {},
   "source": [
    "Cambiaremos la arqutectura del modelo (usaremos 2 LSTMs bidireccionales)\n"
   ]
  },
  {
   "cell_type": "markdown",
   "id": "dea5308f",
   "metadata": {},
   "source": [
    "# 7. REFERENCIAS"
   ]
  },
  {
   "cell_type": "code",
   "execution_count": null,
   "id": "ac964cd7",
   "metadata": {},
   "outputs": [],
   "source": []
  }
 ],
 "metadata": {
  "kernelspec": {
   "display_name": "Python 3 (ipykernel)",
   "language": "python",
   "name": "python3"
  },
  "language_info": {
   "codemirror_mode": {
    "name": "ipython",
    "version": 3
   },
   "file_extension": ".py",
   "mimetype": "text/x-python",
   "name": "python",
   "nbconvert_exporter": "python",
   "pygments_lexer": "ipython3",
   "version": "3.10.12"
  }
 },
 "nbformat": 4,
 "nbformat_minor": 5
}
