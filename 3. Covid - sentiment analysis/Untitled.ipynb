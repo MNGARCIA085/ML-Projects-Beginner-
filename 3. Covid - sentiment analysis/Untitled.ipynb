{
 "cells": [
  {
   "cell_type": "markdown",
   "id": "964d8028",
   "metadata": {},
   "source": [
    "https://www.kaggle.com/code/youssefsameh/modified-lstm#Natural-Language-Processing; guía"
   ]
  },
  {
   "cell_type": "markdown",
   "id": "2025ec14",
   "metadata": {},
   "source": [
    "https://colab.research.google.com/drive/1RvCnR7h0_l4Ekn5vINWToI9TNJdpUZB3"
   ]
  },
  {
   "cell_type": "code",
   "execution_count": 2,
   "id": "9bd4fbdf",
   "metadata": {},
   "outputs": [],
   "source": [
    "import numpy as np\n",
    "\n",
    "import tensorflow_datasets as tfds\n",
    "import tensorflow as tf\n",
    "\n",
    "tfds.disable_progress_bar()\n"
   ]
  },
  {
   "cell_type": "code",
   "execution_count": 4,
   "id": "7cd2b7ff",
   "metadata": {},
   "outputs": [],
   "source": [
    "import matplotlib.pyplot as plt\n",
    "\n",
    "\n",
    "def plot_graphs(history, metric):\n",
    "    plt.plot(history.history[metric])\n",
    "    plt.plot(history.history['val_'+metric], '')\n",
    "    plt.xlabel(\"Epochs\")\n",
    "    plt.ylabel(metric)\n",
    "    plt.legend([metric, 'val_'+metric])\n"
   ]
  },
  {
   "cell_type": "code",
   "execution_count": 5,
   "id": "7a003292",
   "metadata": {},
   "outputs": [
    {
     "ename": "DatasetNotFoundError",
     "evalue": "Dataset data not found.\nAvailable datasets:\n\t- abstract_reasoning\n\t- accentdb\n\t- aeslc\n\t- aflw2k3d\n\t- ag_news_subset\n\t- ai2_arc\n\t- ai2_arc_with_ir\n\t- amazon_us_reviews\n\t- anli\n\t- answer_equivalence\n\t- arc\n\t- asqa\n\t- asset\n\t- assin2\n\t- bair_robot_pushing_small\n\t- bccd\n\t- beans\n\t- bee_dataset\n\t- beir\n\t- big_patent\n\t- bigearthnet\n\t- billsum\n\t- binarized_mnist\n\t- binary_alpha_digits\n\t- ble_wind_field\n\t- blimp\n\t- booksum\n\t- bool_q\n\t- bucc\n\t- c4\n\t- caltech101\n\t- caltech_birds2010\n\t- caltech_birds2011\n\t- cardiotox\n\t- cars196\n\t- cassava\n\t- cats_vs_dogs\n\t- celeb_a\n\t- celeb_a_hq\n\t- cfq\n\t- cherry_blossoms\n\t- chexpert\n\t- cifar10\n\t- cifar100\n\t- cifar100_n\n\t- cifar10_1\n\t- cifar10_corrupted\n\t- cifar10_n\n\t- citrus_leaves\n\t- cityscapes\n\t- civil_comments\n\t- clevr\n\t- clic\n\t- clinc_oos\n\t- cmaterdb\n\t- cnn_dailymail\n\t- coco\n\t- coco_captions\n\t- coil100\n\t- colorectal_histology\n\t- colorectal_histology_large\n\t- common_voice\n\t- conll2003\n\t- controlled_noisy_web_labels\n\t- coqa\n\t- cos_e\n\t- cosmos_qa\n\t- covid19\n\t- covid19sum\n\t- crema_d\n\t- criteo\n\t- cs_restaurants\n\t- curated_breast_imaging_ddsm\n\t- cycle_gan\n\t- d4rl_adroit_door\n\t- d4rl_adroit_hammer\n\t- d4rl_adroit_pen\n\t- d4rl_adroit_relocate\n\t- d4rl_antmaze\n\t- d4rl_mujoco_ant\n\t- d4rl_mujoco_halfcheetah\n\t- d4rl_mujoco_hopper\n\t- d4rl_mujoco_walker2d\n\t- dart\n\t- davis\n\t- deep1b\n\t- deep_weeds\n\t- definite_pronoun_resolution\n\t- dementiabank\n\t- diabetic_retinopathy_detection\n\t- diamonds\n\t- div2k\n\t- dmlab\n\t- doc_nli\n\t- dolphin_number_word\n\t- domainnet\n\t- downsampled_imagenet\n\t- drop\n\t- dsprites\n\t- dtd\n\t- duke_ultrasound\n\t- e2e_cleaned\n\t- efron_morris75\n\t- emnist\n\t- eraser_multi_rc\n\t- esnli\n\t- eurosat\n\t- fashion_mnist\n\t- flic\n\t- flores\n\t- food101\n\t- forest_fires\n\t- fuss\n\t- gap\n\t- geirhos_conflict_stimuli\n\t- gem\n\t- genomics_ood\n\t- german_credit_numeric\n\t- gigaword\n\t- glove100_angular\n\t- glue\n\t- goemotions\n\t- gov_report\n\t- gpt3\n\t- gref\n\t- groove\n\t- grounded_scan\n\t- gsm8k\n\t- gtzan\n\t- gtzan_music_speech\n\t- hellaswag\n\t- higgs\n\t- hillstrom\n\t- horses_or_humans\n\t- howell\n\t- i_naturalist2017\n\t- i_naturalist2018\n\t- i_naturalist2021\n\t- imagenet2012\n\t- imagenet2012_corrupted\n\t- imagenet2012_fewshot\n\t- imagenet2012_multilabel\n\t- imagenet2012_real\n\t- imagenet2012_subset\n\t- imagenet_a\n\t- imagenet_lt\n\t- imagenet_r\n\t- imagenet_resized\n\t- imagenet_sketch\n\t- imagenet_v2\n\t- imagenette\n\t- imagewang\n\t- imdb_reviews\n\t- irc_disentanglement\n\t- iris\n\t- istella\n\t- kddcup99\n\t- kitti\n\t- kmnist\n\t- lambada\n\t- lfw\n\t- librispeech\n\t- librispeech_lm\n\t- libritts\n\t- ljspeech\n\t- lm1b\n\t- locomotion\n\t- lost_and_found\n\t- lsun\n\t- lvis\n\t- malaria\n\t- math_dataset\n\t- math_qa\n\t- mctaco\n\t- media_sum\n\t- mlqa\n\t- mnist\n\t- mnist_corrupted\n\t- movie_lens\n\t- movie_rationales\n\t- movielens\n\t- moving_mnist\n\t- mrqa\n\t- mslr_web\n\t- mt_opt\n\t- mtnt\n\t- multi_news\n\t- multi_nli\n\t- multi_nli_mismatch\n\t- natural_questions\n\t- natural_questions_open\n\t- newsroom\n\t- nsynth\n\t- nyu_depth_v2\n\t- ogbg_molpcba\n\t- omniglot\n\t- open_images_challenge2019_detection\n\t- open_images_v4\n\t- openbookqa\n\t- opinion_abstracts\n\t- opinosis\n\t- opus\n\t- oxford_flowers102\n\t- oxford_iiit_pet\n\t- para_crawl\n\t- pass\n\t- patch_camelyon\n\t- paws_wiki\n\t- paws_x_wiki\n\t- penguins\n\t- pet_finder\n\t- pg19\n\t- piqa\n\t- places365_small\n\t- placesfull\n\t- plant_leaves\n\t- plant_village\n\t- plantae_k\n\t- protein_net\n\t- qa4mre\n\t- qasc\n\t- quac\n\t- quality\n\t- quickdraw_bitmap\n\t- race\n\t- radon\n\t- reddit\n\t- reddit_disentanglement\n\t- reddit_tifu\n\t- ref_coco\n\t- resisc45\n\t- rlu_atari\n\t- rlu_atari_checkpoints\n\t- rlu_atari_checkpoints_ordered\n\t- rlu_control_suite\n\t- rlu_dmlab_explore_object_rewards_few\n\t- rlu_dmlab_explore_object_rewards_many\n\t- rlu_dmlab_rooms_select_nonmatching_object\n\t- rlu_dmlab_rooms_watermaze\n\t- rlu_dmlab_seekavoid_arena01\n\t- rlu_locomotion\n\t- rlu_rwrl\n\t- robomimic_ph\n\t- robonet\n\t- robosuite_panda_pick_place_can\n\t- rock_paper_scissors\n\t- rock_you\n\t- s3o4d\n\t- salient_span_wikipedia\n\t- samsum\n\t- savee\n\t- scan\n\t- scene_parse150\n\t- schema_guided_dialogue\n\t- sci_tail\n\t- scicite\n\t- scientific_papers\n\t- scrolls\n\t- sentiment140\n\t- shapes3d\n\t- sift1m\n\t- simpte\n\t- siscore\n\t- smallnorb\n\t- smartwatch_gestures\n\t- snli\n\t- so2sat\n\t- speech_commands\n\t- spoken_digit\n\t- squad\n\t- squad_question_generation\n\t- stanford_dogs\n\t- stanford_online_products\n\t- star_cfq\n\t- starcraft_video\n\t- stl10\n\t- story_cloze\n\t- summscreen\n\t- sun397\n\t- super_glue\n\t- svhn_cropped\n\t- symmetric_solids\n\t- tao\n\t- tatoeba\n\t- ted_hrlr_translate\n\t- ted_multi_translate\n\t- tedlium\n\t- tf_flowers\n\t- the300w_lp\n\t- tiny_shakespeare\n\t- titanic\n\t- trec\n\t- trivia_qa\n\t- tydi_qa\n\t- uc_merced\n\t- ucf101\n\t- unified_qa\n\t- universal_dependencies\n\t- user_libri_audio\n\t- user_libri_text\n\t- vctk\n\t- visual_domain_decathlon\n\t- voc\n\t- voxceleb\n\t- voxforge\n\t- waymo_open_dataset\n\t- web_graph\n\t- web_nlg\n\t- web_questions\n\t- wider_face\n\t- wiki40b\n\t- wiki_auto\n\t- wiki_bio\n\t- wiki_dialog\n\t- wiki_table_questions\n\t- wiki_table_text\n\t- wikiann\n\t- wikihow\n\t- wikipedia\n\t- wikipedia_toxicity_subtypes\n\t- wine_quality\n\t- winogrande\n\t- wit\n\t- wit_kaggle\n\t- wmt13_translate\n\t- wmt14_translate\n\t- wmt15_translate\n\t- wmt16_translate\n\t- wmt17_translate\n\t- wmt18_translate\n\t- wmt19_translate\n\t- wmt_t2t_translate\n\t- wmt_translate\n\t- wordnet\n\t- wsc273\n\t- xnli\n\t- xquad\n\t- xsum\n\t- xtreme_pawsx\n\t- xtreme_pos\n\t- xtreme_s\n\t- xtreme_xnli\n\t- yahoo_ltrc\n\t- yelp_polarity_reviews\n\t- yes_no\n\t- youtube_vis\n\nCheck that:\n    - if dataset was added recently, it may only be available\n      in `tfds-nightly`\n    - the dataset name is spelled correctly\n    - dataset class defines all base class abstract methods\n    - the module defining the dataset class is imported\n\nDid you mean: data -> dart ?\n\nThe builder directory /home/marcos/tensorflow_datasets/data/Corona_NLP_train.csv doesn't contain any versions.\nNo builder could be found in the directory: data for the builder: data.\nNo registered data_dirs were found in:\n\t- /home/marcos/tensorflow_datasets\n",
     "output_type": "error",
     "traceback": [
      "\u001b[0;31m---------------------------------------------------------------------------\u001b[0m",
      "\u001b[0;31mDatasetNotFoundError\u001b[0m                      Traceback (most recent call last)",
      "Cell \u001b[0;32mIn [5], line 1\u001b[0m\n\u001b[0;32m----> 1\u001b[0m train_dataset \u001b[38;5;241m=\u001b[39m \u001b[43mtfds\u001b[49m\u001b[38;5;241;43m.\u001b[39;49m\u001b[43mload\u001b[49m\u001b[43m(\u001b[49m\u001b[38;5;124;43m'\u001b[39;49m\u001b[38;5;124;43mdata/Corona_NLP_train.csv\u001b[39;49m\u001b[38;5;124;43m'\u001b[39;49m\u001b[43m)\u001b[49m\n\u001b[1;32m      2\u001b[0m test_dataset \u001b[38;5;241m=\u001b[39m tfds\u001b[38;5;241m.\u001b[39mload(\u001b[38;5;124m'\u001b[39m\u001b[38;5;124mdata/Corona_NLP_test.csv\u001b[39m\u001b[38;5;124m'\u001b[39m)\n",
      "File \u001b[0;32m~/.local/lib/python3.10/site-packages/tensorflow_datasets/core/logging/__init__.py:250\u001b[0m, in \u001b[0;36mload.<locals>.decorator\u001b[0;34m(function, unused_none_instance, args, kwargs)\u001b[0m\n\u001b[1;32m    248\u001b[0m name \u001b[38;5;241m=\u001b[39m args[\u001b[38;5;241m0\u001b[39m] \u001b[38;5;28;01mif\u001b[39;00m args \u001b[38;5;28;01melse\u001b[39;00m kwargs[\u001b[38;5;124m\"\u001b[39m\u001b[38;5;124mname\u001b[39m\u001b[38;5;124m\"\u001b[39m]\n\u001b[1;32m    249\u001b[0m \u001b[38;5;28;01mtry\u001b[39;00m:\n\u001b[0;32m--> 250\u001b[0m   \u001b[38;5;28;01mreturn\u001b[39;00m \u001b[43mfunction\u001b[49m\u001b[43m(\u001b[49m\u001b[38;5;241;43m*\u001b[39;49m\u001b[43margs\u001b[49m\u001b[43m,\u001b[49m\u001b[43m \u001b[49m\u001b[38;5;241;43m*\u001b[39;49m\u001b[38;5;241;43m*\u001b[39;49m\u001b[43mkwargs\u001b[49m\u001b[43m)\u001b[49m\n\u001b[1;32m    251\u001b[0m \u001b[38;5;28;01mexcept\u001b[39;00m \u001b[38;5;167;01mException\u001b[39;00m:\n\u001b[1;32m    252\u001b[0m   metadata\u001b[38;5;241m.\u001b[39mmark_error()\n",
      "File \u001b[0;32m~/.local/lib/python3.10/site-packages/tensorflow_datasets/core/load.py:572\u001b[0m, in \u001b[0;36mload\u001b[0;34m(name, split, data_dir, batch_size, shuffle_files, download, as_supervised, decoders, read_config, with_info, builder_kwargs, download_and_prepare_kwargs, as_dataset_kwargs, try_gcs)\u001b[0m\n\u001b[1;32m    569\u001b[0m \u001b[38;5;28;01mif\u001b[39;00m builder_kwargs \u001b[38;5;129;01mis\u001b[39;00m \u001b[38;5;28;01mNone\u001b[39;00m:\n\u001b[1;32m    570\u001b[0m   builder_kwargs \u001b[38;5;241m=\u001b[39m {}\n\u001b[0;32m--> 572\u001b[0m dbuilder \u001b[38;5;241m=\u001b[39m \u001b[43mbuilder\u001b[49m\u001b[43m(\u001b[49m\u001b[43mname\u001b[49m\u001b[43m,\u001b[49m\u001b[43m \u001b[49m\u001b[43mdata_dir\u001b[49m\u001b[38;5;241;43m=\u001b[39;49m\u001b[43mdata_dir\u001b[49m\u001b[43m,\u001b[49m\u001b[43m \u001b[49m\u001b[43mtry_gcs\u001b[49m\u001b[38;5;241;43m=\u001b[39;49m\u001b[43mtry_gcs\u001b[49m\u001b[43m,\u001b[49m\u001b[43m \u001b[49m\u001b[38;5;241;43m*\u001b[39;49m\u001b[38;5;241;43m*\u001b[39;49m\u001b[43mbuilder_kwargs\u001b[49m\u001b[43m)\u001b[49m\n\u001b[1;32m    573\u001b[0m \u001b[38;5;28;01mif\u001b[39;00m download:\n\u001b[1;32m    574\u001b[0m   download_and_prepare_kwargs \u001b[38;5;241m=\u001b[39m download_and_prepare_kwargs \u001b[38;5;129;01mor\u001b[39;00m {}\n",
      "File \u001b[0;32m/usr/lib/python3.10/contextlib.py:79\u001b[0m, in \u001b[0;36mContextDecorator.__call__.<locals>.inner\u001b[0;34m(*args, **kwds)\u001b[0m\n\u001b[1;32m     76\u001b[0m \u001b[38;5;129m@wraps\u001b[39m(func)\n\u001b[1;32m     77\u001b[0m \u001b[38;5;28;01mdef\u001b[39;00m \u001b[38;5;21minner\u001b[39m(\u001b[38;5;241m*\u001b[39margs, \u001b[38;5;241m*\u001b[39m\u001b[38;5;241m*\u001b[39mkwds):\n\u001b[1;32m     78\u001b[0m     \u001b[38;5;28;01mwith\u001b[39;00m \u001b[38;5;28mself\u001b[39m\u001b[38;5;241m.\u001b[39m_recreate_cm():\n\u001b[0;32m---> 79\u001b[0m         \u001b[38;5;28;01mreturn\u001b[39;00m \u001b[43mfunc\u001b[49m\u001b[43m(\u001b[49m\u001b[38;5;241;43m*\u001b[39;49m\u001b[43margs\u001b[49m\u001b[43m,\u001b[49m\u001b[43m \u001b[49m\u001b[38;5;241;43m*\u001b[39;49m\u001b[38;5;241;43m*\u001b[39;49m\u001b[43mkwds\u001b[49m\u001b[43m)\u001b[49m\n",
      "File \u001b[0;32m~/.local/lib/python3.10/site-packages/tensorflow_datasets/core/logging/__init__.py:283\u001b[0m, in \u001b[0;36mbuilder.<locals>.decorator\u001b[0;34m(function, unused_none_instance, args, kwargs)\u001b[0m\n\u001b[1;32m    281\u001b[0m name \u001b[38;5;241m=\u001b[39m args[\u001b[38;5;241m0\u001b[39m] \u001b[38;5;28;01mif\u001b[39;00m args \u001b[38;5;28;01melse\u001b[39;00m kwargs[\u001b[38;5;124m\"\u001b[39m\u001b[38;5;124mname\u001b[39m\u001b[38;5;124m\"\u001b[39m]\n\u001b[1;32m    282\u001b[0m \u001b[38;5;28;01mtry\u001b[39;00m:\n\u001b[0;32m--> 283\u001b[0m   \u001b[38;5;28;01mreturn\u001b[39;00m \u001b[43mfunction\u001b[49m\u001b[43m(\u001b[49m\u001b[38;5;241;43m*\u001b[39;49m\u001b[43margs\u001b[49m\u001b[43m,\u001b[49m\u001b[43m \u001b[49m\u001b[38;5;241;43m*\u001b[39;49m\u001b[38;5;241;43m*\u001b[39;49m\u001b[43mkwargs\u001b[49m\u001b[43m)\u001b[49m\n\u001b[1;32m    284\u001b[0m \u001b[38;5;28;01mexcept\u001b[39;00m \u001b[38;5;167;01mException\u001b[39;00m:\n\u001b[1;32m    285\u001b[0m   metadata\u001b[38;5;241m.\u001b[39mmark_error()\n",
      "File \u001b[0;32m~/.local/lib/python3.10/site-packages/tensorflow_datasets/core/load.py:192\u001b[0m, in \u001b[0;36mbuilder\u001b[0;34m(name, try_gcs, **builder_kwargs)\u001b[0m\n\u001b[1;32m    189\u001b[0m     \u001b[38;5;28;01mreturn\u001b[39;00m \u001b[38;5;28mcls\u001b[39m(\u001b[38;5;241m*\u001b[39m\u001b[38;5;241m*\u001b[39mbuilder_kwargs)  \u001b[38;5;66;03m# pytype: disable=not-instantiable\u001b[39;00m\n\u001b[1;32m    191\u001b[0m \u001b[38;5;66;03m# If neither the code nor the files are found, raise DatasetNotFoundError\u001b[39;00m\n\u001b[0;32m--> 192\u001b[0m \u001b[38;5;28;01mraise\u001b[39;00m not_found_error\n",
      "File \u001b[0;32m~/.local/lib/python3.10/site-packages/tensorflow_datasets/core/load.py:173\u001b[0m, in \u001b[0;36mbuilder\u001b[0;34m(name, try_gcs, **builder_kwargs)\u001b[0m\n\u001b[1;32m    171\u001b[0m \u001b[38;5;66;03m# First check whether we can find the corresponding dataset builder code\u001b[39;00m\n\u001b[1;32m    172\u001b[0m \u001b[38;5;28;01mtry\u001b[39;00m:\n\u001b[0;32m--> 173\u001b[0m   \u001b[38;5;28mcls\u001b[39m \u001b[38;5;241m=\u001b[39m \u001b[43mbuilder_cls\u001b[49m\u001b[43m(\u001b[49m\u001b[38;5;28;43mstr\u001b[39;49m\u001b[43m(\u001b[49m\u001b[43mname\u001b[49m\u001b[43m)\u001b[49m\u001b[43m)\u001b[49m\n\u001b[1;32m    174\u001b[0m \u001b[38;5;28;01mexcept\u001b[39;00m registered\u001b[38;5;241m.\u001b[39mDatasetNotFoundError \u001b[38;5;28;01mas\u001b[39;00m e:\n\u001b[1;32m    175\u001b[0m   \u001b[38;5;28mcls\u001b[39m \u001b[38;5;241m=\u001b[39m \u001b[38;5;28;01mNone\u001b[39;00m  \u001b[38;5;66;03m# Class not found\u001b[39;00m\n",
      "File \u001b[0;32m/usr/lib/python3.10/contextlib.py:79\u001b[0m, in \u001b[0;36mContextDecorator.__call__.<locals>.inner\u001b[0;34m(*args, **kwds)\u001b[0m\n\u001b[1;32m     76\u001b[0m \u001b[38;5;129m@wraps\u001b[39m(func)\n\u001b[1;32m     77\u001b[0m \u001b[38;5;28;01mdef\u001b[39;00m \u001b[38;5;21minner\u001b[39m(\u001b[38;5;241m*\u001b[39margs, \u001b[38;5;241m*\u001b[39m\u001b[38;5;241m*\u001b[39mkwds):\n\u001b[1;32m     78\u001b[0m     \u001b[38;5;28;01mwith\u001b[39;00m \u001b[38;5;28mself\u001b[39m\u001b[38;5;241m.\u001b[39m_recreate_cm():\n\u001b[0;32m---> 79\u001b[0m         \u001b[38;5;28;01mreturn\u001b[39;00m \u001b[43mfunc\u001b[49m\u001b[43m(\u001b[49m\u001b[38;5;241;43m*\u001b[39;49m\u001b[43margs\u001b[49m\u001b[43m,\u001b[49m\u001b[43m \u001b[49m\u001b[38;5;241;43m*\u001b[39;49m\u001b[38;5;241;43m*\u001b[39;49m\u001b[43mkwds\u001b[49m\u001b[43m)\u001b[49m\n",
      "File \u001b[0;32m~/.local/lib/python3.10/site-packages/tensorflow_datasets/core/load.py:112\u001b[0m, in \u001b[0;36mbuilder_cls\u001b[0;34m(name)\u001b[0m\n\u001b[1;32m    110\u001b[0m \u001b[38;5;28;01melse\u001b[39;00m:\n\u001b[1;32m    111\u001b[0m   \u001b[38;5;28;01mtry\u001b[39;00m:\n\u001b[0;32m--> 112\u001b[0m     \u001b[38;5;28mcls\u001b[39m \u001b[38;5;241m=\u001b[39m \u001b[43mregistered\u001b[49m\u001b[38;5;241;43m.\u001b[39;49m\u001b[43mimported_builder_cls\u001b[49m\u001b[43m(\u001b[49m\u001b[38;5;28;43mstr\u001b[39;49m\u001b[43m(\u001b[49m\u001b[43mds_name\u001b[49m\u001b[43m)\u001b[49m\u001b[43m)\u001b[49m\n\u001b[1;32m    113\u001b[0m     \u001b[38;5;28mcls\u001b[39m \u001b[38;5;241m=\u001b[39m typing\u001b[38;5;241m.\u001b[39mcast(Type[dataset_builder\u001b[38;5;241m.\u001b[39mDatasetBuilder], \u001b[38;5;28mcls\u001b[39m)\n\u001b[1;32m    114\u001b[0m     \u001b[38;5;28;01mreturn\u001b[39;00m \u001b[38;5;28mcls\u001b[39m\n",
      "File \u001b[0;32m~/.local/lib/python3.10/site-packages/tensorflow_datasets/core/registered.py:218\u001b[0m, in \u001b[0;36mimported_builder_cls\u001b[0;34m(name)\u001b[0m\n\u001b[1;32m    215\u001b[0m   \u001b[38;5;28;01mraise\u001b[39;00m \u001b[38;5;167;01mAssertionError\u001b[39;00m(\u001b[38;5;124mf\u001b[39m\u001b[38;5;124m'\u001b[39m\u001b[38;5;124mDataset \u001b[39m\u001b[38;5;132;01m{\u001b[39;00mname\u001b[38;5;132;01m}\u001b[39;00m\u001b[38;5;124m is an abstract class.\u001b[39m\u001b[38;5;124m'\u001b[39m)\n\u001b[1;32m    217\u001b[0m \u001b[38;5;28;01mif\u001b[39;00m name \u001b[38;5;129;01mnot\u001b[39;00m \u001b[38;5;129;01min\u001b[39;00m _DATASET_REGISTRY:\n\u001b[0;32m--> 218\u001b[0m   \u001b[38;5;28;01mraise\u001b[39;00m DatasetNotFoundError(\u001b[38;5;124mf\u001b[39m\u001b[38;5;124m'\u001b[39m\u001b[38;5;124mDataset \u001b[39m\u001b[38;5;132;01m{\u001b[39;00mname\u001b[38;5;132;01m}\u001b[39;00m\u001b[38;5;124m not found.\u001b[39m\u001b[38;5;124m'\u001b[39m)\n\u001b[1;32m    220\u001b[0m builder_cls \u001b[38;5;241m=\u001b[39m _DATASET_REGISTRY[name]\n\u001b[1;32m    221\u001b[0m \u001b[38;5;28;01mif\u001b[39;00m \u001b[38;5;129;01mnot\u001b[39;00m _is_builder_available(builder_cls):\n",
      "\u001b[0;31mDatasetNotFoundError\u001b[0m: Dataset data not found.\nAvailable datasets:\n\t- abstract_reasoning\n\t- accentdb\n\t- aeslc\n\t- aflw2k3d\n\t- ag_news_subset\n\t- ai2_arc\n\t- ai2_arc_with_ir\n\t- amazon_us_reviews\n\t- anli\n\t- answer_equivalence\n\t- arc\n\t- asqa\n\t- asset\n\t- assin2\n\t- bair_robot_pushing_small\n\t- bccd\n\t- beans\n\t- bee_dataset\n\t- beir\n\t- big_patent\n\t- bigearthnet\n\t- billsum\n\t- binarized_mnist\n\t- binary_alpha_digits\n\t- ble_wind_field\n\t- blimp\n\t- booksum\n\t- bool_q\n\t- bucc\n\t- c4\n\t- caltech101\n\t- caltech_birds2010\n\t- caltech_birds2011\n\t- cardiotox\n\t- cars196\n\t- cassava\n\t- cats_vs_dogs\n\t- celeb_a\n\t- celeb_a_hq\n\t- cfq\n\t- cherry_blossoms\n\t- chexpert\n\t- cifar10\n\t- cifar100\n\t- cifar100_n\n\t- cifar10_1\n\t- cifar10_corrupted\n\t- cifar10_n\n\t- citrus_leaves\n\t- cityscapes\n\t- civil_comments\n\t- clevr\n\t- clic\n\t- clinc_oos\n\t- cmaterdb\n\t- cnn_dailymail\n\t- coco\n\t- coco_captions\n\t- coil100\n\t- colorectal_histology\n\t- colorectal_histology_large\n\t- common_voice\n\t- conll2003\n\t- controlled_noisy_web_labels\n\t- coqa\n\t- cos_e\n\t- cosmos_qa\n\t- covid19\n\t- covid19sum\n\t- crema_d\n\t- criteo\n\t- cs_restaurants\n\t- curated_breast_imaging_ddsm\n\t- cycle_gan\n\t- d4rl_adroit_door\n\t- d4rl_adroit_hammer\n\t- d4rl_adroit_pen\n\t- d4rl_adroit_relocate\n\t- d4rl_antmaze\n\t- d4rl_mujoco_ant\n\t- d4rl_mujoco_halfcheetah\n\t- d4rl_mujoco_hopper\n\t- d4rl_mujoco_walker2d\n\t- dart\n\t- davis\n\t- deep1b\n\t- deep_weeds\n\t- definite_pronoun_resolution\n\t- dementiabank\n\t- diabetic_retinopathy_detection\n\t- diamonds\n\t- div2k\n\t- dmlab\n\t- doc_nli\n\t- dolphin_number_word\n\t- domainnet\n\t- downsampled_imagenet\n\t- drop\n\t- dsprites\n\t- dtd\n\t- duke_ultrasound\n\t- e2e_cleaned\n\t- efron_morris75\n\t- emnist\n\t- eraser_multi_rc\n\t- esnli\n\t- eurosat\n\t- fashion_mnist\n\t- flic\n\t- flores\n\t- food101\n\t- forest_fires\n\t- fuss\n\t- gap\n\t- geirhos_conflict_stimuli\n\t- gem\n\t- genomics_ood\n\t- german_credit_numeric\n\t- gigaword\n\t- glove100_angular\n\t- glue\n\t- goemotions\n\t- gov_report\n\t- gpt3\n\t- gref\n\t- groove\n\t- grounded_scan\n\t- gsm8k\n\t- gtzan\n\t- gtzan_music_speech\n\t- hellaswag\n\t- higgs\n\t- hillstrom\n\t- horses_or_humans\n\t- howell\n\t- i_naturalist2017\n\t- i_naturalist2018\n\t- i_naturalist2021\n\t- imagenet2012\n\t- imagenet2012_corrupted\n\t- imagenet2012_fewshot\n\t- imagenet2012_multilabel\n\t- imagenet2012_real\n\t- imagenet2012_subset\n\t- imagenet_a\n\t- imagenet_lt\n\t- imagenet_r\n\t- imagenet_resized\n\t- imagenet_sketch\n\t- imagenet_v2\n\t- imagenette\n\t- imagewang\n\t- imdb_reviews\n\t- irc_disentanglement\n\t- iris\n\t- istella\n\t- kddcup99\n\t- kitti\n\t- kmnist\n\t- lambada\n\t- lfw\n\t- librispeech\n\t- librispeech_lm\n\t- libritts\n\t- ljspeech\n\t- lm1b\n\t- locomotion\n\t- lost_and_found\n\t- lsun\n\t- lvis\n\t- malaria\n\t- math_dataset\n\t- math_qa\n\t- mctaco\n\t- media_sum\n\t- mlqa\n\t- mnist\n\t- mnist_corrupted\n\t- movie_lens\n\t- movie_rationales\n\t- movielens\n\t- moving_mnist\n\t- mrqa\n\t- mslr_web\n\t- mt_opt\n\t- mtnt\n\t- multi_news\n\t- multi_nli\n\t- multi_nli_mismatch\n\t- natural_questions\n\t- natural_questions_open\n\t- newsroom\n\t- nsynth\n\t- nyu_depth_v2\n\t- ogbg_molpcba\n\t- omniglot\n\t- open_images_challenge2019_detection\n\t- open_images_v4\n\t- openbookqa\n\t- opinion_abstracts\n\t- opinosis\n\t- opus\n\t- oxford_flowers102\n\t- oxford_iiit_pet\n\t- para_crawl\n\t- pass\n\t- patch_camelyon\n\t- paws_wiki\n\t- paws_x_wiki\n\t- penguins\n\t- pet_finder\n\t- pg19\n\t- piqa\n\t- places365_small\n\t- placesfull\n\t- plant_leaves\n\t- plant_village\n\t- plantae_k\n\t- protein_net\n\t- qa4mre\n\t- qasc\n\t- quac\n\t- quality\n\t- quickdraw_bitmap\n\t- race\n\t- radon\n\t- reddit\n\t- reddit_disentanglement\n\t- reddit_tifu\n\t- ref_coco\n\t- resisc45\n\t- rlu_atari\n\t- rlu_atari_checkpoints\n\t- rlu_atari_checkpoints_ordered\n\t- rlu_control_suite\n\t- rlu_dmlab_explore_object_rewards_few\n\t- rlu_dmlab_explore_object_rewards_many\n\t- rlu_dmlab_rooms_select_nonmatching_object\n\t- rlu_dmlab_rooms_watermaze\n\t- rlu_dmlab_seekavoid_arena01\n\t- rlu_locomotion\n\t- rlu_rwrl\n\t- robomimic_ph\n\t- robonet\n\t- robosuite_panda_pick_place_can\n\t- rock_paper_scissors\n\t- rock_you\n\t- s3o4d\n\t- salient_span_wikipedia\n\t- samsum\n\t- savee\n\t- scan\n\t- scene_parse150\n\t- schema_guided_dialogue\n\t- sci_tail\n\t- scicite\n\t- scientific_papers\n\t- scrolls\n\t- sentiment140\n\t- shapes3d\n\t- sift1m\n\t- simpte\n\t- siscore\n\t- smallnorb\n\t- smartwatch_gestures\n\t- snli\n\t- so2sat\n\t- speech_commands\n\t- spoken_digit\n\t- squad\n\t- squad_question_generation\n\t- stanford_dogs\n\t- stanford_online_products\n\t- star_cfq\n\t- starcraft_video\n\t- stl10\n\t- story_cloze\n\t- summscreen\n\t- sun397\n\t- super_glue\n\t- svhn_cropped\n\t- symmetric_solids\n\t- tao\n\t- tatoeba\n\t- ted_hrlr_translate\n\t- ted_multi_translate\n\t- tedlium\n\t- tf_flowers\n\t- the300w_lp\n\t- tiny_shakespeare\n\t- titanic\n\t- trec\n\t- trivia_qa\n\t- tydi_qa\n\t- uc_merced\n\t- ucf101\n\t- unified_qa\n\t- universal_dependencies\n\t- user_libri_audio\n\t- user_libri_text\n\t- vctk\n\t- visual_domain_decathlon\n\t- voc\n\t- voxceleb\n\t- voxforge\n\t- waymo_open_dataset\n\t- web_graph\n\t- web_nlg\n\t- web_questions\n\t- wider_face\n\t- wiki40b\n\t- wiki_auto\n\t- wiki_bio\n\t- wiki_dialog\n\t- wiki_table_questions\n\t- wiki_table_text\n\t- wikiann\n\t- wikihow\n\t- wikipedia\n\t- wikipedia_toxicity_subtypes\n\t- wine_quality\n\t- winogrande\n\t- wit\n\t- wit_kaggle\n\t- wmt13_translate\n\t- wmt14_translate\n\t- wmt15_translate\n\t- wmt16_translate\n\t- wmt17_translate\n\t- wmt18_translate\n\t- wmt19_translate\n\t- wmt_t2t_translate\n\t- wmt_translate\n\t- wordnet\n\t- wsc273\n\t- xnli\n\t- xquad\n\t- xsum\n\t- xtreme_pawsx\n\t- xtreme_pos\n\t- xtreme_s\n\t- xtreme_xnli\n\t- yahoo_ltrc\n\t- yelp_polarity_reviews\n\t- yes_no\n\t- youtube_vis\n\nCheck that:\n    - if dataset was added recently, it may only be available\n      in `tfds-nightly`\n    - the dataset name is spelled correctly\n    - dataset class defines all base class abstract methods\n    - the module defining the dataset class is imported\n\nDid you mean: data -> dart ?\n\nThe builder directory /home/marcos/tensorflow_datasets/data/Corona_NLP_train.csv doesn't contain any versions.\nNo builder could be found in the directory: data for the builder: data.\nNo registered data_dirs were found in:\n\t- /home/marcos/tensorflow_datasets\n"
     ]
    }
   ],
   "source": [
    "train_dataset = tfds.load('data/Corona_NLP_train.csv')\n",
    "test_dataset = tfds.load('data/Corona_NLP_test.csv')\n",
    "\n"
   ]
  },
  {
   "cell_type": "code",
   "execution_count": 9,
   "id": "99e0ca61",
   "metadata": {},
   "outputs": [],
   "source": [
    "\n",
    "#https://www.tensorflow.org/datasets?hl=es-419\n",
    "\n",
    "train_csv_ds = tf.data.experimental.make_csv_dataset(\n",
    "    'data/Corona_NLP_train.csv',\n",
    "    batch_size=5, # Artificially small to make examples easier to show.\n",
    "    label_name='Sentiment',\n",
    "    num_epochs=1)\n"
   ]
  },
  {
   "cell_type": "code",
   "execution_count": 26,
   "id": "a16e2362",
   "metadata": {},
   "outputs": [
    {
     "name": "stdout",
     "output_type": "stream",
     "text": [
      "UserName  : [13570  6535  7491 11080 10184]\n",
      "ScreenName: [58522 51487 52443 56032 55136]\n",
      "Location  : [b'Nairobi, Kenya' b'Oakland, CA' b'Barcelona' b'Greenway, England' b'']\n",
      "TweetAt   : [b'20-03-2020' b'18-03-2020' b'18-03-2020' b'19-03-2020' b'19-03-2020']\n",
      "OriginalTweet: [b'Online shopping picks up in the face of'\n",
      " b'There s plenty of food to go around during the pandemic say distributors despite panic buying across the Bay Area'\n",
      " b'USD/CAD surges through 1.4300 mark, fresh multi-year tops amid tumbling oil prices By @HareshMenghani https://t.co/x9DOyLf0Ls #USDCAD #Commodities #Coronavirus #Majors #Currencies'\n",
      " b'I think all the pictures of empty supermarket shelves are making people panic more I went to the supermarket this morning amp yes some items had run out But many were available amp new limits are being enforced so please don t panic there is enough to go around  '\n",
      " b'When going to the grocery store or having to run any essential chores I have learned that it is advisable to use protective eyewear Or sunglasses would be better than nothing Everything possible to prevent getting and spreading it to my mom']\n"
     ]
    },
    {
     "name": "stderr",
     "output_type": "stream",
     "text": [
      "2023-07-17 20:31:24.420072: I tensorflow/core/common_runtime/executor.cc:1197] [/device:CPU:0] (DEBUG INFO) Executor start aborting (this does not indicate an error and you can ignore this message): INVALID_ARGUMENT: You must feed a value for placeholder tensor 'Placeholder/_8' with dtype int32 and shape [1]\n",
      "\t [[{{node Placeholder/_8}}]]\n",
      "2023-07-17 20:31:24.420704: I tensorflow/core/common_runtime/executor.cc:1197] [/device:CPU:0] (DEBUG INFO) Executor start aborting (this does not indicate an error and you can ignore this message): INVALID_ARGUMENT: You must feed a value for placeholder tensor 'Placeholder/_11' with dtype string and shape [1]\n",
      "\t [[{{node Placeholder/_11}}]]\n"
     ]
    }
   ],
   "source": [
    "for batch, label in train_csv_ds.take(1):\n",
    "    for key, value in batch.items():\n",
    "        print(f\"{key:10s}: {value}\")\n"
   ]
  },
  {
   "cell_type": "code",
   "execution_count": 37,
   "id": "6672d3ce",
   "metadata": {},
   "outputs": [],
   "source": [
    "test_csv_ds = tf.data.experimental.make_csv_dataset(\n",
    "    'data/Corona_NLP_test.csv',\n",
    "    batch_size=5, # Artificially small to make examples easier to show.\n",
    "    label_name='Sentiment',\n",
    "    num_epochs=1)"
   ]
  },
  {
   "cell_type": "code",
   "execution_count": 38,
   "id": "3171c761",
   "metadata": {},
   "outputs": [],
   "source": [
    "BUFFER_SIZE = 10000\n",
    "BATCH_SIZE = 64\n",
    "\n",
    "\n",
    "train_dataset = train_csv_ds.shuffle(BUFFER_SIZE).batch(BATCH_SIZE).prefetch(tf.data.AUTOTUNE)\n",
    "test_dataset = test_csv_ds.batch(BATCH_SIZE).prefetch(tf.data.AUTOTUNE)\n",
    "\n"
   ]
  },
  {
   "cell_type": "code",
   "execution_count": 39,
   "id": "bd68e01e",
   "metadata": {},
   "outputs": [
    {
     "name": "stderr",
     "output_type": "stream",
     "text": [
      "2023-07-17 20:53:47.856533: I tensorflow/core/common_runtime/executor.cc:1197] [/device:CPU:0] (DEBUG INFO) Executor start aborting (this does not indicate an error and you can ignore this message): INVALID_ARGUMENT: You must feed a value for placeholder tensor 'Placeholder/_12' with dtype string and shape [1]\n",
      "\t [[{{node Placeholder/_12}}]]\n",
      "2023-07-17 20:53:47.857063: I tensorflow/core/common_runtime/executor.cc:1197] [/device:CPU:0] (DEBUG INFO) Executor start aborting (this does not indicate an error and you can ignore this message): INVALID_ARGUMENT: You must feed a value for placeholder tensor 'Placeholder/_12' with dtype string and shape [1]\n",
      "\t [[{{node Placeholder/_12}}]]\n"
     ]
    },
    {
     "ename": "TypeError",
     "evalue": "in user code:\n\n    File \"/home/marcos/.local/lib/python3.10/site-packages/keras/engine/base_preprocessing_layer.py\", line 123, in adapt_step  *\n        self.update_state(data)\n    File \"/home/marcos/.local/lib/python3.10/site-packages/keras/layers/preprocessing/text_vectorization.py\", line 475, in update_state  **\n        self._lookup_layer.update_state(self._preprocess(data))\n    File \"/home/marcos/.local/lib/python3.10/site-packages/keras/layers/preprocessing/text_vectorization.py\", line 555, in _preprocess\n        inputs = utils.ensure_tensor(inputs, dtype=tf.string)\n    File \"/home/marcos/.local/lib/python3.10/site-packages/keras/layers/preprocessing/preprocessing_utils.py\", line 32, in ensure_tensor\n        inputs = tf.convert_to_tensor(inputs, dtype)\n\n    TypeError: Expected string, but got Tensor(\"IteratorGetNext:0\", shape=(None,), dtype=string) of type 'Tensor'.\n",
     "output_type": "error",
     "traceback": [
      "\u001b[0;31m---------------------------------------------------------------------------\u001b[0m",
      "\u001b[0;31mTypeError\u001b[0m                                 Traceback (most recent call last)",
      "Cell \u001b[0;32mIn [39], line 4\u001b[0m\n\u001b[1;32m      1\u001b[0m VOCAB_SIZE \u001b[38;5;241m=\u001b[39m \u001b[38;5;241m1000\u001b[39m\n\u001b[1;32m      2\u001b[0m encoder \u001b[38;5;241m=\u001b[39m tf\u001b[38;5;241m.\u001b[39mkeras\u001b[38;5;241m.\u001b[39mlayers\u001b[38;5;241m.\u001b[39mTextVectorization(\n\u001b[1;32m      3\u001b[0m     max_tokens\u001b[38;5;241m=\u001b[39mVOCAB_SIZE)\n\u001b[0;32m----> 4\u001b[0m \u001b[43mencoder\u001b[49m\u001b[38;5;241;43m.\u001b[39;49m\u001b[43madapt\u001b[49m\u001b[43m(\u001b[49m\u001b[43mtest_csv_ds\u001b[49m\u001b[38;5;241;43m.\u001b[39;49m\u001b[43mmap\u001b[49m\u001b[43m(\u001b[49m\u001b[38;5;28;43;01mlambda\u001b[39;49;00m\u001b[43m \u001b[49m\u001b[43mtext\u001b[49m\u001b[43m,\u001b[49m\u001b[43m \u001b[49m\u001b[43mlabel\u001b[49m\u001b[43m:\u001b[49m\u001b[43m \u001b[49m\u001b[43mtext\u001b[49m\u001b[43m)\u001b[49m\u001b[43m)\u001b[49m\n",
      "File \u001b[0;32m~/.local/lib/python3.10/site-packages/keras/layers/preprocessing/text_vectorization.py:472\u001b[0m, in \u001b[0;36mTextVectorization.adapt\u001b[0;34m(self, data, batch_size, steps)\u001b[0m\n\u001b[1;32m    422\u001b[0m \u001b[38;5;28;01mdef\u001b[39;00m \u001b[38;5;21madapt\u001b[39m(\u001b[38;5;28mself\u001b[39m, data, batch_size\u001b[38;5;241m=\u001b[39m\u001b[38;5;28;01mNone\u001b[39;00m, steps\u001b[38;5;241m=\u001b[39m\u001b[38;5;28;01mNone\u001b[39;00m):\n\u001b[1;32m    423\u001b[0m \u001b[38;5;250m    \u001b[39m\u001b[38;5;124;03m\"\"\"Computes a vocabulary of string terms from tokens in a dataset.\u001b[39;00m\n\u001b[1;32m    424\u001b[0m \n\u001b[1;32m    425\u001b[0m \u001b[38;5;124;03m    Calling `adapt()` on a `TextVectorization` layer is an alternative to\u001b[39;00m\n\u001b[0;32m   (...)\u001b[0m\n\u001b[1;32m    470\u001b[0m \u001b[38;5;124;03m          argument is not supported with array inputs.\u001b[39;00m\n\u001b[1;32m    471\u001b[0m \u001b[38;5;124;03m    \"\"\"\u001b[39;00m\n\u001b[0;32m--> 472\u001b[0m     \u001b[38;5;28;43msuper\u001b[39;49m\u001b[43m(\u001b[49m\u001b[43m)\u001b[49m\u001b[38;5;241;43m.\u001b[39;49m\u001b[43madapt\u001b[49m\u001b[43m(\u001b[49m\u001b[43mdata\u001b[49m\u001b[43m,\u001b[49m\u001b[43m \u001b[49m\u001b[43mbatch_size\u001b[49m\u001b[38;5;241;43m=\u001b[39;49m\u001b[43mbatch_size\u001b[49m\u001b[43m,\u001b[49m\u001b[43m \u001b[49m\u001b[43msteps\u001b[49m\u001b[38;5;241;43m=\u001b[39;49m\u001b[43msteps\u001b[49m\u001b[43m)\u001b[49m\n",
      "File \u001b[0;32m~/.local/lib/python3.10/site-packages/keras/engine/base_preprocessing_layer.py:258\u001b[0m, in \u001b[0;36mPreprocessingLayer.adapt\u001b[0;34m(self, data, batch_size, steps)\u001b[0m\n\u001b[1;32m    256\u001b[0m \u001b[38;5;28;01mwith\u001b[39;00m data_handler\u001b[38;5;241m.\u001b[39mcatch_stop_iteration():\n\u001b[1;32m    257\u001b[0m     \u001b[38;5;28;01mfor\u001b[39;00m _ \u001b[38;5;129;01min\u001b[39;00m data_handler\u001b[38;5;241m.\u001b[39msteps():\n\u001b[0;32m--> 258\u001b[0m         \u001b[38;5;28;43mself\u001b[39;49m\u001b[38;5;241;43m.\u001b[39;49m\u001b[43m_adapt_function\u001b[49m\u001b[43m(\u001b[49m\u001b[43miterator\u001b[49m\u001b[43m)\u001b[49m\n\u001b[1;32m    259\u001b[0m         \u001b[38;5;28;01mif\u001b[39;00m data_handler\u001b[38;5;241m.\u001b[39mshould_sync:\n\u001b[1;32m    260\u001b[0m             context\u001b[38;5;241m.\u001b[39masync_wait()\n",
      "File \u001b[0;32m~/.local/lib/python3.10/site-packages/tensorflow/python/util/traceback_utils.py:153\u001b[0m, in \u001b[0;36mfilter_traceback.<locals>.error_handler\u001b[0;34m(*args, **kwargs)\u001b[0m\n\u001b[1;32m    151\u001b[0m \u001b[38;5;28;01mexcept\u001b[39;00m \u001b[38;5;167;01mException\u001b[39;00m \u001b[38;5;28;01mas\u001b[39;00m e:\n\u001b[1;32m    152\u001b[0m   filtered_tb \u001b[38;5;241m=\u001b[39m _process_traceback_frames(e\u001b[38;5;241m.\u001b[39m__traceback__)\n\u001b[0;32m--> 153\u001b[0m   \u001b[38;5;28;01mraise\u001b[39;00m e\u001b[38;5;241m.\u001b[39mwith_traceback(filtered_tb) \u001b[38;5;28;01mfrom\u001b[39;00m \u001b[38;5;28;01mNone\u001b[39;00m\n\u001b[1;32m    154\u001b[0m \u001b[38;5;28;01mfinally\u001b[39;00m:\n\u001b[1;32m    155\u001b[0m   \u001b[38;5;28;01mdel\u001b[39;00m filtered_tb\n",
      "File \u001b[0;32m/tmp/__autograph_generated_file4tjyr636.py:11\u001b[0m, in \u001b[0;36mouter_factory.<locals>.inner_factory.<locals>.tf__adapt_step\u001b[0;34m(iterator)\u001b[0m\n\u001b[1;32m      9\u001b[0m data \u001b[38;5;241m=\u001b[39m ag__\u001b[38;5;241m.\u001b[39mconverted_call(ag__\u001b[38;5;241m.\u001b[39mld(\u001b[38;5;28mnext\u001b[39m), (ag__\u001b[38;5;241m.\u001b[39mld(iterator),), \u001b[38;5;28;01mNone\u001b[39;00m, fscope)\n\u001b[1;32m     10\u001b[0m ag__\u001b[38;5;241m.\u001b[39mconverted_call(ag__\u001b[38;5;241m.\u001b[39mld(\u001b[38;5;28mself\u001b[39m)\u001b[38;5;241m.\u001b[39m_adapt_maybe_build, (ag__\u001b[38;5;241m.\u001b[39mld(data),), \u001b[38;5;28;01mNone\u001b[39;00m, fscope)\n\u001b[0;32m---> 11\u001b[0m \u001b[43mag__\u001b[49m\u001b[38;5;241;43m.\u001b[39;49m\u001b[43mconverted_call\u001b[49m\u001b[43m(\u001b[49m\u001b[43mag__\u001b[49m\u001b[38;5;241;43m.\u001b[39;49m\u001b[43mld\u001b[49m\u001b[43m(\u001b[49m\u001b[38;5;28;43mself\u001b[39;49m\u001b[43m)\u001b[49m\u001b[38;5;241;43m.\u001b[39;49m\u001b[43mupdate_state\u001b[49m\u001b[43m,\u001b[49m\u001b[43m \u001b[49m\u001b[43m(\u001b[49m\u001b[43mag__\u001b[49m\u001b[38;5;241;43m.\u001b[39;49m\u001b[43mld\u001b[49m\u001b[43m(\u001b[49m\u001b[43mdata\u001b[49m\u001b[43m)\u001b[49m\u001b[43m,\u001b[49m\u001b[43m)\u001b[49m\u001b[43m,\u001b[49m\u001b[43m \u001b[49m\u001b[38;5;28;43;01mNone\u001b[39;49;00m\u001b[43m,\u001b[49m\u001b[43m \u001b[49m\u001b[43mfscope\u001b[49m\u001b[43m)\u001b[49m\n",
      "File \u001b[0;32m~/.local/lib/python3.10/site-packages/keras/layers/preprocessing/text_vectorization.py:475\u001b[0m, in \u001b[0;36mTextVectorization.update_state\u001b[0;34m(self, data)\u001b[0m\n\u001b[1;32m    474\u001b[0m \u001b[38;5;28;01mdef\u001b[39;00m \u001b[38;5;21mupdate_state\u001b[39m(\u001b[38;5;28mself\u001b[39m, data):\n\u001b[0;32m--> 475\u001b[0m     \u001b[38;5;28mself\u001b[39m\u001b[38;5;241m.\u001b[39m_lookup_layer\u001b[38;5;241m.\u001b[39mupdate_state(\u001b[38;5;28;43mself\u001b[39;49m\u001b[38;5;241;43m.\u001b[39;49m\u001b[43m_preprocess\u001b[49m\u001b[43m(\u001b[49m\u001b[43mdata\u001b[49m\u001b[43m)\u001b[49m)\n",
      "File \u001b[0;32m~/.local/lib/python3.10/site-packages/keras/layers/preprocessing/text_vectorization.py:555\u001b[0m, in \u001b[0;36mTextVectorization._preprocess\u001b[0;34m(self, inputs)\u001b[0m\n\u001b[1;32m    554\u001b[0m \u001b[38;5;28;01mdef\u001b[39;00m \u001b[38;5;21m_preprocess\u001b[39m(\u001b[38;5;28mself\u001b[39m, inputs):\n\u001b[0;32m--> 555\u001b[0m     inputs \u001b[38;5;241m=\u001b[39m \u001b[43mutils\u001b[49m\u001b[38;5;241;43m.\u001b[39;49m\u001b[43mensure_tensor\u001b[49m\u001b[43m(\u001b[49m\u001b[43minputs\u001b[49m\u001b[43m,\u001b[49m\u001b[43m \u001b[49m\u001b[43mdtype\u001b[49m\u001b[38;5;241;43m=\u001b[39;49m\u001b[43mtf\u001b[49m\u001b[38;5;241;43m.\u001b[39;49m\u001b[43mstring\u001b[49m\u001b[43m)\u001b[49m\n\u001b[1;32m    556\u001b[0m     \u001b[38;5;28;01mif\u001b[39;00m \u001b[38;5;28mself\u001b[39m\u001b[38;5;241m.\u001b[39m_standardize \u001b[38;5;129;01min\u001b[39;00m (LOWER, LOWER_AND_STRIP_PUNCTUATION):\n\u001b[1;32m    557\u001b[0m         inputs \u001b[38;5;241m=\u001b[39m tf\u001b[38;5;241m.\u001b[39mstrings\u001b[38;5;241m.\u001b[39mlower(inputs)\n",
      "File \u001b[0;32m~/.local/lib/python3.10/site-packages/keras/layers/preprocessing/preprocessing_utils.py:32\u001b[0m, in \u001b[0;36mensure_tensor\u001b[0;34m(inputs, dtype)\u001b[0m\n\u001b[1;32m     30\u001b[0m \u001b[38;5;250m\u001b[39m\u001b[38;5;124;03m\"\"\"Ensures the input is a Tensor, SparseTensor or RaggedTensor.\"\"\"\u001b[39;00m\n\u001b[1;32m     31\u001b[0m \u001b[38;5;28;01mif\u001b[39;00m \u001b[38;5;129;01mnot\u001b[39;00m \u001b[38;5;28misinstance\u001b[39m(inputs, (tf\u001b[38;5;241m.\u001b[39mTensor, tf\u001b[38;5;241m.\u001b[39mRaggedTensor, tf\u001b[38;5;241m.\u001b[39mSparseTensor)):\n\u001b[0;32m---> 32\u001b[0m     inputs \u001b[38;5;241m=\u001b[39m \u001b[43mtf\u001b[49m\u001b[38;5;241;43m.\u001b[39;49m\u001b[43mconvert_to_tensor\u001b[49m\u001b[43m(\u001b[49m\u001b[43minputs\u001b[49m\u001b[43m,\u001b[49m\u001b[43m \u001b[49m\u001b[43mdtype\u001b[49m\u001b[43m)\u001b[49m\n\u001b[1;32m     33\u001b[0m \u001b[38;5;28;01mif\u001b[39;00m dtype \u001b[38;5;129;01mis\u001b[39;00m \u001b[38;5;129;01mnot\u001b[39;00m \u001b[38;5;28;01mNone\u001b[39;00m \u001b[38;5;129;01mand\u001b[39;00m inputs\u001b[38;5;241m.\u001b[39mdtype \u001b[38;5;241m!=\u001b[39m dtype:\n\u001b[1;32m     34\u001b[0m     inputs \u001b[38;5;241m=\u001b[39m tf\u001b[38;5;241m.\u001b[39mcast(inputs, dtype)\n",
      "\u001b[0;31mTypeError\u001b[0m: in user code:\n\n    File \"/home/marcos/.local/lib/python3.10/site-packages/keras/engine/base_preprocessing_layer.py\", line 123, in adapt_step  *\n        self.update_state(data)\n    File \"/home/marcos/.local/lib/python3.10/site-packages/keras/layers/preprocessing/text_vectorization.py\", line 475, in update_state  **\n        self._lookup_layer.update_state(self._preprocess(data))\n    File \"/home/marcos/.local/lib/python3.10/site-packages/keras/layers/preprocessing/text_vectorization.py\", line 555, in _preprocess\n        inputs = utils.ensure_tensor(inputs, dtype=tf.string)\n    File \"/home/marcos/.local/lib/python3.10/site-packages/keras/layers/preprocessing/preprocessing_utils.py\", line 32, in ensure_tensor\n        inputs = tf.convert_to_tensor(inputs, dtype)\n\n    TypeError: Expected string, but got Tensor(\"IteratorGetNext:0\", shape=(None,), dtype=string) of type 'Tensor'.\n"
     ]
    }
   ],
   "source": [
    "VOCAB_SIZE = 1000\n",
    "encoder = tf.keras.layers.TextVectorization(\n",
    "    max_tokens=VOCAB_SIZE)\n",
    "encoder.adapt(test_csv_ds.map(lambda text, label: text))\n"
   ]
  },
  {
   "cell_type": "code",
   "execution_count": null,
   "id": "9060cee5",
   "metadata": {},
   "outputs": [],
   "source": []
  },
  {
   "cell_type": "code",
   "execution_count": null,
   "id": "1f6e78dc",
   "metadata": {},
   "outputs": [],
   "source": []
  },
  {
   "cell_type": "code",
   "execution_count": null,
   "id": "468aea81",
   "metadata": {},
   "outputs": [],
   "source": []
  },
  {
   "cell_type": "code",
   "execution_count": null,
   "id": "7c07a268",
   "metadata": {},
   "outputs": [],
   "source": []
  },
  {
   "cell_type": "code",
   "execution_count": null,
   "id": "1ab4466a",
   "metadata": {},
   "outputs": [],
   "source": []
  },
  {
   "cell_type": "code",
   "execution_count": 14,
   "id": "9f9a7f6d",
   "metadata": {},
   "outputs": [],
   "source": [
    "import pandas as pd"
   ]
  },
  {
   "cell_type": "code",
   "execution_count": 27,
   "id": "efd5820b",
   "metadata": {},
   "outputs": [
    {
     "data": {
      "text/html": [
       "<div>\n",
       "<style scoped>\n",
       "    .dataframe tbody tr th:only-of-type {\n",
       "        vertical-align: middle;\n",
       "    }\n",
       "\n",
       "    .dataframe tbody tr th {\n",
       "        vertical-align: top;\n",
       "    }\n",
       "\n",
       "    .dataframe thead th {\n",
       "        text-align: right;\n",
       "    }\n",
       "</style>\n",
       "<table border=\"1\" class=\"dataframe\">\n",
       "  <thead>\n",
       "    <tr style=\"text-align: right;\">\n",
       "      <th></th>\n",
       "      <th>UserName</th>\n",
       "      <th>ScreenName</th>\n",
       "      <th>Location</th>\n",
       "      <th>TweetAt</th>\n",
       "      <th>OriginalTweet</th>\n",
       "      <th>Sentiment</th>\n",
       "    </tr>\n",
       "  </thead>\n",
       "  <tbody>\n",
       "    <tr>\n",
       "      <th>0</th>\n",
       "      <td>3799</td>\n",
       "      <td>48751</td>\n",
       "      <td>London</td>\n",
       "      <td>16-03-2020</td>\n",
       "      <td>@MeNyrbie @Phil_Gahan @Chrisitv https://t.co/i...</td>\n",
       "      <td>Neutral</td>\n",
       "    </tr>\n",
       "    <tr>\n",
       "      <th>1</th>\n",
       "      <td>3800</td>\n",
       "      <td>48752</td>\n",
       "      <td>UK</td>\n",
       "      <td>16-03-2020</td>\n",
       "      <td>advice Talk to your neighbours family to excha...</td>\n",
       "      <td>Positive</td>\n",
       "    </tr>\n",
       "    <tr>\n",
       "      <th>2</th>\n",
       "      <td>3801</td>\n",
       "      <td>48753</td>\n",
       "      <td>Vagabonds</td>\n",
       "      <td>16-03-2020</td>\n",
       "      <td>Coronavirus Australia: Woolworths to give elde...</td>\n",
       "      <td>Positive</td>\n",
       "    </tr>\n",
       "    <tr>\n",
       "      <th>3</th>\n",
       "      <td>3802</td>\n",
       "      <td>48754</td>\n",
       "      <td>NaN</td>\n",
       "      <td>16-03-2020</td>\n",
       "      <td>My food stock is not the only one which is emp...</td>\n",
       "      <td>Positive</td>\n",
       "    </tr>\n",
       "    <tr>\n",
       "      <th>4</th>\n",
       "      <td>3803</td>\n",
       "      <td>48755</td>\n",
       "      <td>NaN</td>\n",
       "      <td>16-03-2020</td>\n",
       "      <td>Me, ready to go at supermarket during the #COV...</td>\n",
       "      <td>Extremely Negative</td>\n",
       "    </tr>\n",
       "  </tbody>\n",
       "</table>\n",
       "</div>"
      ],
      "text/plain": [
       "   UserName  ScreenName   Location     TweetAt  \\\n",
       "0      3799       48751     London  16-03-2020   \n",
       "1      3800       48752         UK  16-03-2020   \n",
       "2      3801       48753  Vagabonds  16-03-2020   \n",
       "3      3802       48754        NaN  16-03-2020   \n",
       "4      3803       48755        NaN  16-03-2020   \n",
       "\n",
       "                                       OriginalTweet           Sentiment  \n",
       "0  @MeNyrbie @Phil_Gahan @Chrisitv https://t.co/i...             Neutral  \n",
       "1  advice Talk to your neighbours family to excha...            Positive  \n",
       "2  Coronavirus Australia: Woolworths to give elde...            Positive  \n",
       "3  My food stock is not the only one which is emp...            Positive  \n",
       "4  Me, ready to go at supermarket during the #COV...  Extremely Negative  "
      ]
     },
     "execution_count": 27,
     "metadata": {},
     "output_type": "execute_result"
    }
   ],
   "source": [
    "\n",
    "\n",
    "train_data_pandas = pd.read_csv('data/Corona_NLP_train.csv',encoding='latin-1')\n",
    "\n",
    "train_data_pandas.head()\n",
    "\n",
    "#train_data_pandas.size\n"
   ]
  },
  {
   "cell_type": "code",
   "execution_count": 20,
   "id": "146ea07f",
   "metadata": {},
   "outputs": [
    {
     "data": {
      "text/plain": [
       "22788"
      ]
     },
     "execution_count": 20,
     "metadata": {},
     "output_type": "execute_result"
    }
   ],
   "source": [
    "test_data_pandas = pd.read_csv('data/Corona_NLP_test.csv',encoding='latin-1')\n",
    "\n",
    "test_data_pandas.size\n"
   ]
  },
  {
   "cell_type": "code",
   "execution_count": null,
   "id": "7f7002f2",
   "metadata": {},
   "outputs": [],
   "source": [
    "!pip insta"
   ]
  },
  {
   "cell_type": "code",
   "execution_count": null,
   "id": "549f0a2d",
   "metadata": {},
   "outputs": [],
   "source": [
    "\n",
    "\n",
    "dataframe = pd.read_csv('data/Corona_NLP_train.csv',encoding='latin-1')\n",
    "columna_deseada = dataframe['OriginalTweet']\n",
    "tensor_columna = tf.convert_to_tensor(columna_deseada)\n"
   ]
  },
  {
   "cell_type": "code",
   "execution_count": null,
   "id": "638e9cc6",
   "metadata": {},
   "outputs": [],
   "source": [
    "dataset, info = tfds.load('imdb_reviews', with_info=True,\n",
    "                          as_supervised=True)\n",
    "train_dataset, test_dataset = dataset['train'], dataset['test']\n",
    "\n",
    "train_dataset.element_spec"
   ]
  },
  {
   "cell_type": "code",
   "execution_count": null,
   "id": "e8fb1039",
   "metadata": {},
   "outputs": [],
   "source": []
  },
  {
   "cell_type": "code",
   "execution_count": 58,
   "id": "f6e80e58",
   "metadata": {},
   "outputs": [],
   "source": [
    "import tensorflow as tf\n",
    "import pandas as pd\n",
    "\n",
    "# Reemplaza 'ruta_del_archivo.csv' con la ruta de tu archivo CSV\n",
    "ruta_del_archivo = 'data/Corona_NLP_train.csv'\n",
    "\n",
    "# Lee el archivo CSV utilizando Pandas\n",
    "dataframe = pd.read_csv(ruta_del_archivo,encoding='latin-1')\n",
    "\n",
    "# Convierte las etiquetas de texto a números (por ejemplo, 'positive' -> 1, 'negative' -> 0)\n",
    "label_map = {'Extremely Negative':0,'Negative':1,'Neutral':2,'Positive':3,'Extremely Positive':4}\n",
    "dataframe['label'] = dataframe['Sentiment'].map(label_map)\n",
    "\n",
    "# Obtén el texto y las etiquetas como listas\n",
    "textos = dataframe['OriginalTweet'].tolist()\n",
    "etiquetas = dataframe['label'].tolist()\n",
    "\n",
    "# Divide los datos en conjuntos de entrenamiento y prueba (puedes ajustar el tamaño de la división según tus necesidades)\n",
    "tamaño_entrenamiento = int(len(textos) * 0.8)  # 80% de los datos para entrenamiento\n",
    "textos_entrenamiento = textos[:tamaño_entrenamiento]\n",
    "etiquetas_entrenamiento = etiquetas[:tamaño_entrenamiento]\n",
    "textos_prueba = textos[tamaño_entrenamiento:]\n",
    "etiquetas_prueba = etiquetas[tamaño_entrenamiento:]\n",
    "\n",
    "# Convierte las listas en tensores de TensorFlow\n",
    "train_dataset = tf.data.Dataset.from_tensor_slices((textos_entrenamiento, etiquetas_entrenamiento))\n",
    "test_dataset = tf.data.Dataset.from_tensor_slices((textos_prueba, etiquetas_prueba))\n"
   ]
  },
  {
   "cell_type": "code",
   "execution_count": 59,
   "id": "fc932dd1",
   "metadata": {},
   "outputs": [
    {
     "data": {
      "text/plain": [
       "<_TensorSliceDataset element_spec=(TensorSpec(shape=(), dtype=tf.string, name=None), TensorSpec(shape=(), dtype=tf.int32, name=None))>"
      ]
     },
     "execution_count": 59,
     "metadata": {},
     "output_type": "execute_result"
    }
   ],
   "source": [
    "train_dataset"
   ]
  },
  {
   "cell_type": "code",
   "execution_count": 60,
   "id": "4f16e35b",
   "metadata": {},
   "outputs": [
    {
     "name": "stdout",
     "output_type": "stream",
     "text": [
      "text:  b'@MeNyrbie @Phil_Gahan @Chrisitv https://t.co/iFz9FAn2Pa and https://t.co/xX6ghGFzCC and https://t.co/I2NlzdxNo8'\n",
      "label:  2\n"
     ]
    },
    {
     "name": "stderr",
     "output_type": "stream",
     "text": [
      "2023-07-17 21:07:05.605477: I tensorflow/core/common_runtime/executor.cc:1197] [/device:CPU:0] (DEBUG INFO) Executor start aborting (this does not indicate an error and you can ignore this message): INVALID_ARGUMENT: You must feed a value for placeholder tensor 'Placeholder/_1' with dtype int32 and shape [32925]\n",
      "\t [[{{node Placeholder/_1}}]]\n"
     ]
    }
   ],
   "source": [
    "for example, label in train_dataset.take(1):\n",
    "  print('text: ', example.numpy())\n",
    "  print('label: ', label.numpy())\n"
   ]
  },
  {
   "cell_type": "code",
   "execution_count": 62,
   "id": "518e566a",
   "metadata": {},
   "outputs": [
    {
     "name": "stdout",
     "output_type": "stream",
     "text": [
      "texts:  [[b'I\\'m literally afraid to buy #toiletpaper now because I don\\'t want to be seen as \"one of them\" - although I actually need some soon.... #COVID2019 #coronavirus https://t.co/AVQc0HBHn4'\n",
      "  b'Pandemic-driven shopping has left many grocery stores barren. But retailers say products will return to shelves \\xc3\\x82\\xc2\\x97 and urge customers to not panic or hoard items.\\r\\r\\nhttps://t.co/aq1MsgOGPR'\n",
      "  b'Which items of food have you been buying which no-one else seems to be panic buying?\\r\\r\\n\\r\\r\\nMine are:\\r\\r\\n\\r\\r\\nCustard\\r\\r\\nFrazzles\\r\\r\\nYoghurts\\r\\r\\n\\r\\r\\n#coronacrisis'\n",
      "  b'Covid 19 Lockdown: Know Your Online Grocery Shopping Options==&gt; https://t.co/QKY8zPs5oZ #21daysLockdown #21daylockdown #21daysLockdownIndia #coronavirusindia #CoronavirusLockdown'\n",
      "  b'As coronavirus restrictions hit home, more people are shopping online. But will your package even be delivered? https://t.co/ZRYFn2KyGx'\n",
      "  b'Basic commodity prices of goods in grocery shop have increased such that villagers in Ward 6 Gatsi and Ward 20 Mutasa central are appealing for food aid Women'\n",
      "  b'It looks suspiciously like @realDonaldTrump and @jaredkushner are using federal system and taxpayer funds to hoard #ventilators and #PPE in a bid to manipulate stock prices and retail values for personal gain. #Coronavirus #pandemic #covid19 #masks @3M'\n",
      "  b'In the fight against #coronavirus, Hygiene and sanitation is paramount, i acquired my self this unique hand sanitizer from @Wildbeesug. https://t.co/a9sIdfhOW9'\n",
      "  b'#OPEC+ postpone important meeting over price and output as tensions between #SaudiArabia and #Russia intensify amid lowest #oil prices in 18 years. #coronavirus #opec \\r\\r\\nhttps://t.co/srG7ETQwdj'\n",
      "  b'Industry Body For Rs 5,000 Cash Transfer To 20 Crore People Amid COVID-19\\r\\r\\n\\r\\r\\nCII has suggested that savings from low oil prices could be channelised for additional spending required to keep the wheels of economy moving.'\n",
      "  b'@HardeepSPuri @BlueDart_ refused to deliver a material required to manufacture sanitizer from Pune to Chennai, rtold to bring the material to Mumbai airport that too after charging 30% extra. Kudos to your Blue Dart, that is operating only for the profit.'\n",
      "  b'\\xc3\\x82\\xc2\\x93It only takes about two weeks from the time the flour is milled to the time Sfoglini pasta appears on shelves\\xc3\\x82\\xc2\\x94 Steve Gonzalez, Sfoglini Co-founder\\r\\r\\n\\r\\r\\nLearn how Sfoglini Pasta and others are keeping up with increased demand &gt; https://t.co/IOzkokIGIc'\n",
      "  b'I will trade one roll of toilet paper for a chicken ?. Must live in Los Angeles. DM me. I got the super soft! #coronavirus #toiletpaper #chicken'\n",
      "  b'Reminder that there are a lot of professions that are helping and worth your gratitude. Thank you Postal Workers, Bin Collectors, Cleaners, Charity Workers, Care Workers, Food Delivery staff, Supermarket staff, Public Transport staff - anyone providing a Public Service #Covid_19'\n",
      "  b'The exhibits below come from Italy survey data collected March 21\\xc3\\x82\\xc2\\x9622, 2020. #Crisis #Coronavirus #COVID19 https://t.co/gIDoB63byv https://t.co/7yDU6hHJNp'\n",
      "  b'@Mike23656644 @dbongino Yet thousands of Trumpkins cleared out every aquarium supplier in the country. My guess is that a lot of them are used to consuming unlabeled pharmaceuticals. \\r\\r\\n\\r\\r\\nhttps://t.co/qiz79jQC0k'\n",
      "  b'#CoronaCrisis stop using trolleys in the supermarket, use baskets'\n",
      "  b\"I wanted 2go to the supermarket, but needed a mask because they won't let U in without one (pharmacy that sells them is out of stock).\\r\\r\\n\\r\\r\\nYears ago, I came across how bras can be used as face mask - never did I thought this internet trivia thing be useful IRL. #Corona #coronavirus\"\n",
      "  b'World #foodprices fall sharply in March because of #coronavirus, oil slump: U.N https://t.co/vStE5x9k16'\n",
      "  b'Question on @Quora: Going forward, will everyday things become more expensive due to unavailability or will they become cheaper due to the lock down for covid19? https://t.co/gHxqTHeAaZ #COVID2019 #Essentials #prices #food #CoronavirusPandemic'\n",
      "  b'Consumer sentiment in the US during the #coronavirus crisis | @McKinsey https://t.co/Iro8PMUjwu'\n",
      "  b'to all these people You ve been in the frontlines From Health care workers with the greatest risk to the grocery store staff pharmacists Journalists delivery drivers taxi amp public transit drivers amp many more helping in this crisis'\n",
      "  b'.@Charmin, you tease! ?\\r\\r\\n\\r\\r\\n.\\r\\r\\n.\\r\\r\\n.\\r\\r\\n\\r\\r\\n#Charmin #toiletpaper #ToiletPaperApocalypse #toiletpapergate #ToiletPaperPanic #toiletpapershortage #coronavirusjokes #coronavirus #CoronavirusUSA #Covid19usa #COVID?19 #COVID19 #COVID19US #Covid_19 #Brooklyn99 #BrooklynNineNine @nbcbrooklyn99 https://t.co/9CT0FqEEPK'\n",
      "  b'After the Virus: 10 Consumer Trends for a Post-#Coronavirus World \\r\\r\\n\\r\\r\\nhttps://t.co/ZKfaKqdwlA\\r\\r\\n\\r\\r\\n#innovation'\n",
      "  b'Twisted Prank? Woman purposely coughed on $35,000 worth of food at a supermarket in Pennsylvania #8NN #covid19 #coronavirus https://t.co/Lr2TnTB0aR'\n",
      "  b\"2/4 sucks down like, oh, i don't know, about 18% of total GDP is asking for donations of really basic items... also, and then goes and charges patients exorbitant prices, for among other things, being treated for COVID-19. Does that make any sense... when all this is done, let's\"\n",
      "  b'Don\\xc3\\x82\\xc2\\x92t forget to be kind to and thank CSR\\xc3\\x82\\xc2\\x92s on the front lines at your local grocery store. These folks are putting themselves at risk so we can stay stocked with our supplies. #coronavirus #covid19'\n",
      "  b'#news #metropolitan - COVID-19: Lagos continues food distribution, residents demand more https://t.co/KuD5eLVTK2'\n",
      "  b'At the best of times I can\\xc3\\x82\\xc2\\x92t stand anyone near or next to me in the supermarket isle looking at the same products on a shelf. Now it\\xc3\\x82\\xc2\\x92s a nightmare. I end up having to leave and loop back when they are gone. Anyway, good for another week. Relax. #coronavirus'\n",
      "  b'#GAS - Renewed optimism after first signs of a slowdown in the COVID-19 spread emerged in several European countries and a 13% increase in EUA prices pushed European gas prices higher on Monday. https://t.co/GdWUaIysD2'\n",
      "  b'No one likes \\xc3\\x82\\xc2\\x91that guy\\xc3\\x82\\xc2\\x92. That\\xc3\\x82\\xc2\\x92s why friends don\\xc3\\x82\\xc2\\x92t let friends panic buy. Some of SA\\xc3\\x82\\xc2\\x92s musos hit the studio to remind you to shop responsibly and with your community in mind. ? https://t.co/l78JSkFxt1'\n",
      "  b'Remember when supermarket shelves were well stocked and social distancing was only something used in Stepford #coronavirus #COVID19 #stepfordwives #SocialDistancing @Tate @SerpentineUK https://t.co/oG17naOUgD'\n",
      "  b'@WesternCapeDA @Our_DA @WCProvParl @jsteenhuisen @mireillewenger Watching Min Bheki Cele on #eNCA today, he keeps on fighting ALL SA\\xc3\\x82\\xc2\\x92s PEOPLE instead of the VIRUS. He already criminalized supermarket cigarettes &amp; wine (during Covid-19) &amp; threaten'\n",
      "  b'In addition to wearing a face mask or covering when going to the grocery store, @DrNitaLandry shares more tips! #coronavirus https://t.co/DbWxiHDq8y'\n",
      "  b'Taste of Power cuts prices with 50 while donating 10 to COVID 19 charity relief fund'\n",
      "  b'I\\xc3\\x82\\xc2\\x92m about to put on a suit to hit the grocery store just to feel like I really went somewhere today.  #COVID2019 #QuarantineLife'\n",
      "  b'Subscriber only: A number of UK dairy farmers were forced to dump thousands of litres of milk over recent days as the COVID-19 pandemic continues to play havoc with the UK\\xc3\\x82\\xc2\\x92s dairy market.\\r\\r\\nhttps://t.co/ItbsUQQSVE'\n",
      "  b'@mitchellvii Taking my kids outside and to the grocery store every chance I get to piss off the #CovidNazis and #COVIDIOTS. \\r\\r\\n#Covid_19'\n",
      "  b'As CUNY faculty + grad students demand TT + funding extensions, let\\xc3\\x82\\xc2\\x92s all support the recently fired workers. \\r\\r\\n\\r\\r\\nI\\xc3\\x82\\xc2\\x92m calling on @GC_CUNY to continue to pay its food service provider so that campus food service workers can be paid during the #COVID crisis.\\r\\r\\nhttps://t.co/PglngnZqYO'\n",
      "  b'\\xc3\\x82\\xc2\\x93Only after the last can opener broke, Only after the last pasta was cooked, Only after the last supermarket closed down, Then will you find that toilet paper cannot be eaten.\\xc3\\x82\\xc2\\x94\\r\\r\\n#COVID19 #covid2019 #toiletpapercrisis #StayHome'\n",
      "  b'Hand sanitizer and masks available in Harare and Bulawayo!\\r\\r\\n\\r\\r\\nPlease be safe , and keep your loved ones safe as well.  Get your sanitizer now!\\r\\r\\n\\r\\r\\n#coronavirusZim #Zimbabwe  #COVID2019 \\r\\r\\n#21daysLockdown #COVID19 #coronavirus https://t.co/WDQD6zvvOg'\n",
      "  b'In the wake of the COVID-19 pandemic and its effects on the market, home prices are expected to increase at half the rate prior to the outbreak, according to forecasting by Veros Real Estate Solutions. https://t.co/DP0yv5iZmK https://t.co/LIBZhNbi09'\n",
      "  b'  What should I do if I m buying a house   Are prices about to plunge   What happens if a sale falls through shares everything homebuyers need to know during the current'\n",
      "  b'There is more than enough food and supplies to go around if we only take what we need.\\r\\r\\n\\r\\r\\nRetweet if you are thinking of your community and those keeping us safe by shopping responsibly. https://t.co/JJ726QlLgK'\n",
      "  b'Miss Jellybean here to remind you all not to panic just wash your paws and stay indoors  '\n",
      "  b'Are you ordering groceries and receiving deliveries from shopping online? If so, check out this article by our co-editor Kanoa Ikeda-Flynn (@KatsuPorky) on how to safely receive groceries/deliveries during the pandemic:\\r\\r\\n\\r\\r\\nhttps://t.co/CSKBmJuyEk'\n",
      "  b'@BorisJohnson just a suggestion &amp; precaution the checkout employee should use face mask and gloves to protect themselve from covid-19. I hope the retail store bosses would implemented to their employees by your mandate &amp; guidance.Thanks alot.Keep '\n",
      "  b'Everything you need to know about supermarket delivery slots https://t.co/8kUg04f5IE #covid19 #coronavirus'\n",
      "  b'Something I never thought I\\xc3\\x82\\xc2\\x92d hear in a newsroom. \\r\\r\\n#toiletpaper #coronavirus #toothpaste ?@theoutlaw_josie? ?@AndriasOnAir? ?@News4SA? #StayAtHome https://t.co/2Qjp5B1v2H'\n",
      "  b'This out for a walk getting a lot of media attention!!! In my opinion it\\xc3\\x82\\xc2\\x92s worse in a supermarket,people are passing to close picking up food Putting it back@down again and staff are very close without any protection #COVID19 ##StayHomeSaveLives #Supermarkets #SocialDistancing'\n",
      "  b'Ready to brave the supermarket later....#stockpilingUK #21daylockdown #coronavirus https://t.co/FMah6bF4gZ'\n",
      "  b'@MrKRudd Thank you Kevin.\\r\\r\\n\\r\\r\\nWear a mask to protect others !\\r\\r\\n\\r\\r\\nTransmission of #coronavirus WILL be reduced in public places such as supermarkets, takeaways, hairdressers etc if everyone wears a mask (if you have one).\\r\\r\\n\\r\\r\\nEspecially important for s'\n",
      "  b\"#COVID2019 doesn't discriminate. But our society &amp; healthcare system does. Minimum wage grocery-store/warehouse workers, migrant workers being transported to fields in crowded trucks, people living in public housing w/mold that causes asthma are all disproportionately at risk\"\n",
      "  b'Salman khan to star in a film based on He will play the role of  coronavirus  in this film Mask role will be played by Shera And most important role Sanitizer to washout his crimes will be played by His Driver Directed by Black Buck EID 2022 RELEASE'\n",
      "  b'BREAKING: @realDonaldTrump speaking with his Coronavirus Task Force announcing U.S. Department of Justice shut down at least one website offering fake vaccines for COVID-19. #Consumer #WARNING #Coronavirus @cbs46 https://t.co/1NjUJGwCAw'\n",
      "  b\"It's hard to break out of my habit of visiting the grocery store every 2 days to pick up a few items at a time, but with this #coronavirus thing, I'm trying to limit trips to once a week.\"\n",
      "  b'Effective beginning tomorrow in #Indiana: NO foot traffic allowed in any retail stores that are not groceries, pharmacies, or convenience stores (gas stations), and stores that are permitted to remain open will be forced to limit the number of people in the store. #Covid_19'\n",
      "  b'Food banks across the US are seeing increased demand because people are losing their jobs or stocking up on supplies because of the COVID 19 pandemic Can you donate'\n",
      "  b\"The weirdos who built shelters and stocked goods bc of a rumored impossibility that a computer clock couldn't successfully count 1 digit from 1999 to 2000 are laughing at us right now.\\r\\r\\n\\r\\r\\n #COVID19 #coronavirus #y2k  #StopPanicBuying #itsrealthistime #FalloutShelter\"\n",
      "  b'A Wuhan lab that identified COVID-19 as a highly contagious pathogen in late December was ordered by local officials to stop tests and destroy samples. Beijing is now scrambling to censor the story https://t.co/3a28zGcPXn'\n",
      "  b'Who would have thought grocery store cashiers and clerks would be one of the most courageous jobs you could have? They\\xc3\\x82\\xc2\\x92re like firefighters, paramedics or police. Honor them like first responders on the front lines because they are.\\r\\r\\n\\r\\r\\n#coronavirus #firstresponders #Covid_19'\n",
      "  b'#COVID19 pandemic impact on India\\xc3\\x82\\xc2\\x92s real estate prices. Read this piece with inputs of MD Liases Foras @PankajKapoorLF \\r\\r\\nhttps://t.co/I0lIPV9ivg'\n",
      "  b'Short-term rental occupancy in North Lake Tahoe has decreased as vacation rental owners comply with a statewide order to help control the spread of COVID-19. Read more: https://t.co/TJw3BqkMvG https://t.co/pFryZMs3RS'\n",
      "  b'On today Did Trump actually give a dhamki to India on To how onions made Sushma Swaraj lose an election']\n",
      " [b'Who is that man on Jeremy Vine and when was the last time he went to a supermarket ? My locals have empty shelves.  His butler must be lying to him about the shops being well stocked. #JeremyVine #CoronaCrisis #looroll #supermarkets\\r\\r\\n@JeremyVineOn5 @theJeremyVine'\n",
      "  b'The government has used the crisis to push for greater sharing of data from private and public sources Indeed some in fear that some of the gains for consumer in the past two years could be lost'\n",
      "  b'?WE\\xc3\\x82\\xc2\\x92RE OPEN DAILY 9am - 7pm?\\r\\r\\n\\r\\r\\nBesides #craftbeer we also stock household items and groceries.\\r\\r\\n\\r\\r\\nVisit us if you\\xc3\\x82\\xc2\\x92re based in #Bedford but please remember to be safe!\\r\\r\\n\\r\\r\\nWe offer free parking ? in front of our store.\\r\\r\\n\\r\\r\\n#staysafe #coronavirus #shopping #groceries #toiletpaper https://t.co/yDYGRnh0ic'\n",
      "  b'@SkyHelpTeam by removing the function to downgrade a subscription from your website,. You are no better than the mercenaries that are selling nappies, toilet paper, calpol and other needed products at inflated prices. #COVID19 #coronavirus'\n",
      "  b'Well in times of #lockdown the only thing to do is online shopping from Germany ?? \\r\\r\\n#coronavirus #COVID19 #NoLongerATravellingPA https://t.co/bN15y8mZ6w'\n",
      "  b\"#CoronaCrisis #COVID19 #America\\xc3\\x82\\xc2\\x92s grocery store workers are on the front lines of the #coronavirus #pandemic , helping to keep the nation's 330 million residents alive and fed in an uncertain and frightening time. https://t.co/xMSyHPMuZr\"\n",
      "  b\"What's your frugal hack? Help each other. Put it in the comments. #frugal #quarentine #covid19 #Coronavirus #corona #ghetto #toiletpaper #tp #teepee #hoitytoity #packet #water #boojee #boojie #hoity #toity #social #socialdistancing #haircut #clippers https://t.co/MZfbwFWaCU\"\n",
      "  b'UK supermarkets have started to ration food after #coronavirus panic-buying gripped Britain - https://t.co/pFHRojbrg0'\n",
      "  b'We\\xc3\\x82\\xc2\\x92ve all done it.. And will be doing again..\\r\\r\\n\\r\\r\\n#StayAtHome #toiletpaper #coronavirus #lockdownUKnow https://t.co/3DJrKDSZmo'\n",
      "  b'@WhiteHouse @realDonaldTrump Q: How stupid is Donald Trump the #COVIDIOT?\\r\\r\\n\\r\\r\\nA: So stupid that any second now he will claim that Jeff Bezos started the COVID-19 pandemic crisis to shut down brick-and-mortar retail to boost his fortunes in online shoppin'\n",
      "  b'Tumbling gas prices put Parkmead in the red: $PMG @parkmeadgroup #OOTT #coronavirus  https://t.co/vK6P1G5Vrk'\n",
      "  b'.@BurgerKing offering \\xc3\\x82\\xc2\\x93free delivery\\xc3\\x82\\xc2\\x94, but changing prices overnight. Tried to order an Original Chicken Sandwich Meal at 10PM last night and it was $7.09, this morning it\\xc3\\x82\\xc2\\x92s at $9.09. Medium Onion Ringd went from $2.29 to $2.99. #shady #coronavirus #pretendingtocare'\n",
      "  b'Good morning \\r\\r\\nmy view to this covid 19 is global political weapon to reconfigure economy or reconcile some sovereignty dispute among them..\\r\\r\\nbut unfortunately humanity will pay the prices.\\r\\r\\nCreating problem.reaction and solution provide.\\r\\r\\nThen economy and power shifted.'\n",
      "  b'Dear World! Did you stock up enough food???\\r\\r\\n~Central African Republic\\r\\r\\n\\r\\r\\n#COVID2019\\r\\r\\n#LockDownWorld'\n",
      "  b\"@Paris__G DON'T MAKE UNNECESSARY STOPS AT THE GROCERY STORE OR FOOD VENDOR! IF YOU SEE SOMEONE GOING DRIVE-THRU FOR BEVERAGES - YELL AT THEM FOR HUMANITY. PASS IT ON!! #covididiot #stopthespread #COVID19 #coronavirus\"\n",
      "  b'Coronavirus and house prices: how the UK housing market could be affected by the outbreak and lockdown measures #coronavirus #houseprices https://t.co/Cit04IsWxc'\n",
      "  b'Staying home today w/ kids? \\r\\r\\n\\r\\r\\nPlan living room camp out!\\r\\r\\n\\r\\r\\nThrow a bedsheet over some taped together brooms. Plan a menu &amp; \\xc3\\x82\\xc2\\x91pack\\xc3\\x82\\xc2\\x92 sandwiches, salads (S\\xc3\\x82\\xc2\\x92mores optional?)\\r\\r\\n\\r\\r\\nA fun activity that also brings family together for a meal!\\r\\r\\n\\r\\r\\nShare your ideas &amp; use the hashtag #TogetherApart https://t.co/rgwCl8IIHY'\n",
      "  b'Just went to Fiesta Supermarket &amp; it was scary! The store was filled w/people, some had masks on, some had gloves. Others used clothes to cover their mouths/noses. Some shelves were empty &amp; most items had a limit of 1 per purchase. The checkout lines were so long! #coronavirus'\n",
      "  b'\"It\\'s really about the community coming together here\"- #Beverly #MA Mayor Mike Cahill on asking residents to stagger their grocery store shopping. #WBZ #SocialDistancing #coronavirus'\n",
      "  b'?TUNE IN: Join our GM Laura Gentles in conversation with media strategist @ErinMcPike (fmr. CNN) to discuss consumer expectations of brands in the time of #coronavirus. Hosted by @WWPR 4/2 @ 1 PM EST. https://t.co/0pKuBN9Gvu'\n",
      "  b'It was good to see Ardmore pharmacy on the Ormeau Rd selling Calpol at a reduced price &amp; a pleasant surprise given all the stories of retailers scalping prices in recent days. While open on a one in, one out basis for prescriptions they deserve praise. Thank you. #CoronaCrisis'\n",
      "  b\"@DailyMonitor @KagutaMuseveni TRUELY. I now believe #covid-19 was kicked out of @uganda yesterday after @kagutamuseveni's warning to our country's evil traders hiking food prices. That a pandemic worst than #covid-19.\"\n",
      "  b'New Jersey man who  coughed on supermarket worker and told her he had coronavirus  held on terror charges'\n",
      "  b'#Vermont #VT and #Minnesota #MN plan to classify grocery store workers as emergency personnel.\\r\\r\\n\\r\\r\\n#COVID19 #coronavirus'\n",
      "  b'As stores around the nation are struggling to keep up with the demand for food, toilet paper and hand sanitizer, there is another golden commodity fast disappearing from the shelves amid the #coronavirus crisis: firearms. https://t.co/W2gIWeJMTW'\n",
      "  b\"Grocery store employees are imploring shoppers to follow a few simple rules for the sake of others: Don't stop to chat, shop alone, and only shop once a week.\\r\\r\\nAnd channel any anger and frustration elsewhere. https://t.co/wnZaqskjMR @KaylaHounsell\"\n",
      "  b\"It's weird seeing the barriers up on cash registers at the grocery store. But we still have to touch the debit card pad or handle cash. ??? #coronavirus\"\n",
      "  b'I know we are all panicking out here to find some groceries, but is no one noticing the gas prices they are dropping slowly?I guess worldwide panic drops gas prices.#gasprice #COVID?19 #coronavirus'\n",
      "  b'Is your supermarket and e commerce site running short of hand Don t panic Here are some simple hacks to make a sanitizer at home'\n",
      "  b'Hope everyone is staying safe inside their homes. Wash your hands regularly. If u must go outside to go to the doctor, grocery store, or work please social distance. ?? A call a day to your family &amp; friends can really make a difference. LOVE &amp; PRAYERS TO YOU ALL! ? #coronavirus https://t.co/MAHHTlkFsB'\n",
      "  b'Consumer advocates pressure Texas to halt utility shutoffs during COVID-19 outbreak https://t.co/MilsnUJ9w0'\n",
      "  b'#coronavirus #shopping  I can understand that supply and demand dictates how much a product costs , but are the supermarkets going beyond that with their prices ? Smoothie before all this \\xc3\\x82\\xc2\\xa31.99 . Now cheapest \\xc3\\x82\\xc2\\xa33.40 .'\n",
      "  b'Today I joined Premier and my colleagues to announce that Ontario is suspending time of use electricity prices for 45 days to support families and small businesses during the outbreak Learn more'\n",
      "  b'@Tesco Seacroft this morning. Are we not meant to be practicing social distance? #COVID?19 #coronavirus #COVID19 #SocialDistancing #panicbuying #StopHoarding #stockpiling https://t.co/fNGDetub40'\n",
      "  b'trip to the grocery store Here are some tips Make a list Shop online curbside pick up Use sanitizer wipes on cart Practice social distancing Do not hoard items Ask for help If you re at high risk for 19 ask someone else to complete the shopping'\n",
      "  b'Where is the first place you\\xc3\\x82\\xc2\\x92re gonna go when quarantine is over? (Someplace that\\xc3\\x82\\xc2\\x92s not the grocery store) \\r\\r\\n\\xc3\\x82\\xc2\\x95\\r\\r\\n\\xc3\\x82\\xc2\\x95\\r\\r\\n\\xc3\\x82\\xc2\\x95\\r\\r\\n\\xc3\\x82\\xc2\\x95\\r\\r\\n@thefaintinggoatcoffee \\r\\r\\n#mcag #muletown #coffee #latte #latteart #covid_19 https://t.co/ehh6sm2Goa'\n",
      "  b'Remember those who are working in a grocery store are essential front line workers during the thank them call them heroes and demand your politicians start instituting living wage legislation for them as well'\n",
      "  b'\"Last Saturday I was in the grocery store, pushing my cart down a row of refrigerators in the dairy section, on my way to grab a gallon of chocolate milk.\"\\r\\r\\n\\r\\r\\nhttps://t.co/lQThCObjog\\r\\r\\n\\r\\r\\n#Covid_19 #COVID #SlowTheSpread #SocialDistancing #StayHome #StayHomeMN #coronavirus'\n",
      "  b'\\xc3\\x82\\xc2\\x93The coronavirus pandemic has completely changed patterns of consumer behavior all over the world. People are afraid, and when people are afraid, they go into survival mode\\xc3\\x82\\xc2\\x94 - Jesse Garcia \\r\\r\\nhttps://t.co/e5VwxT8wr6 #coronavirus #covid19 #recession #Recession2020'\n",
      "  b'More people are working from home as a result of COVID-19, leading to an increased demand for heathy food. Our Organic Plantain Flour meets your need https://t.co/gkRuPU6ArB'\n",
      "  b'Edan M3A NS and M3A NSTQ Vital Signs Monitor, provides essential measurements for SpO2, NIBP, pulse rate, and patient temperature. For prices and more information press here -&gt; https://t.co/3qdZ0rMAdc\\r\\r\\n\\r\\r\\n#EDAN #MONITORS  #COVID-19 #CORONAVIRUS #Hospital #M3A #VitalSignsMonitors https://t.co/RsqoHgtvRI'\n",
      "  b'I better not see one more goddamn picture of a Venezuelan supermarket showing me the dangers of socialism #CoronavirusPandemic #coronavirus #StayAtHome #QuaratineLife #socialism #capitalism #freemarket'\n",
      "  b'#COVIDIOTS the toilet roll speaks! ?? #COVID?19 #coronavirus #toiletpaper # https://t.co/w6svLGgFr2'\n",
      "  b'AD In just 3 hours you ll have your groceries delivered at your doorstep Stay safe from by shopping online and paying online is your supermarket at home Visit   '\n",
      "  b'Scammers could send fake text alerts purporting to be official Government updates such as the one sent this week Number 10 has warned If you see others claiming to be from the us they re false   it said'\n",
      "  b'Batman helps and comes when, how and where he can!\\r\\r\\n\\r\\r\\n#StayAtHome #Covid_19 #coronavirus #CoronavirusPandemic #COVID?19 #Corona #toiletpaper #ToiletPaperPanic #StaySafeStayHome #COVID #COVID19italia #covid_19DE #CoronavirusOutbreak #CoronavirusUSA #CoronaVirusitaly #coronavirusuk https://t.co/QnXlJTtUt4'\n",
      "  b'Europe chems prices start Q2 on weak footing, stocks down on poor sentiment\\r\\r\\n#ICIS #coronavirus #COVID19 #Europe #prices #stocks #chemicals #oil #financial #markets https://t.co/aa6LZCTzuU'\n",
      "  b'Trump s touting of malaria drugs as cure illustrate why we should end the practice of direct to consumer drug marketing'\n",
      "  b'#covid_19 update: At this time, our Retail Store is closed until further notice. That said, have you checked out our website lately (link in bio)? Our Sales Team is well-equipped to take your inquiries via DM, Email\\xc3\\x82\\xc2\\x85 https://t.co/Plqa41Qa03'\n",
      "  b'if you\\xc3\\x82\\xc2\\x92re wondering how rough it\\xc3\\x82\\xc2\\x92s getting out here , look no further . blow pop is selling hand sanitizer . #COVID?19 #coronavirus ?? https://t.co/dgCXKguOEB'\n",
      "  b'Our warehouse is OPEN  and the prices of our goods are still the SAME   We are aware prices of goods have been hiked due to the prevalence of 19 in Nigeria you can be rest assured that we are not joining the bandwagon'\n",
      "  b'Every \\xc3\\x82\\xc2\\x9120s decade has brought roaring bull markets catalyzed by technological advances, and each has ended with a widespread collapse of share prices. #recession #coronavirus\\r\\r\\nhttps://t.co/U8aaDYcJpP'\n",
      "  b'People are becoming desperate in these toiletpaperless times #COVID?19 #toiletpaper #coronavirus #COVID19outbreak #ToiletPaperApocalypse #COVID19 #ijustneedtoiletpaper https://t.co/hm02rVWknR'\n",
      "  b\"Tried to DIY hand sanitizer, ended up with Jello-shots.  Oops, guess that's what we are doing on day 3 of #WorkingFromHome\\r\\r\\n#WednesdayThoughts #coronavirus #Covid_19\"\n",
      "  b'Retailers hiked the price of cough and cold medicines by 10 7 last week according to a snapshot analysis of the impact of on the economy'\n",
      "  b'#Quarantine #coronavirus #Elderly #Food @cnnhealth @bbchealth When people are asked to Quarantine for 7-14 days, they are right away homebound. Not everyone has access to supplies or know online shopping. Many are old, alone, sick without help. We/Govt. need to think about this.'\n",
      "  b'While the world is fighting over toilet papers and food supplies.\\r\\r\\n#SaudiArabia has increased their stock at the markets without any price hike.\\r\\r\\nThere will be no panic, and no shortage of anything, In Sha Allah.\\r\\r\\n#CoronaVirus \\r\\r\\n#Riyadh \\r\\r\\n#PandaApp\\r\\r\\n#PakistanUnitedAgainstCorona https://t.co/J6tAb5QWEY'\n",
      "  b'The UK Government is helping the supermarket supply chain respond to We ll allow night time deliveries to supermarkets and I stand ready to allow drivers  hours to be safely and temporarily extended if needed'\n",
      "  b\"@shawnsaura Hello! As COVID-19 has spread, we've recently seen an increase in people shopping online. Some of our delivery promises are longer than usual, but we're working around the clock to ship items as quickly as we're able to. Thank you for your und\"\n",
      "  b'#Grocery #Shopping during a pandemic: U-M sustainability expert discusses - https://t.co/NdRRcg7Rsi #Coronavirus #Covid19 #Covidagenparl #Iorestoacasa #Online #Stores #System #UniversityOfMichigan'\n",
      "  b'Hi there! I just want to promote my etsy shop. I hope you guys are willing to check it out. All of these pieces art acrylic painting and i lowered them from their original prices to be more reasonable for those affected financially by COVID-19.\\r\\r\\nhttps://t.co/Q6PlvlMmJ8\\r\\r\\n#etsyshop https://t.co/0Sli2qpm6T'\n",
      "  b'Seems like we\\xc3\\x82\\xc2\\x92ve been taking everything for granted \\xc3\\x82\\xc2\\x97 even our immune systems!!\\r\\r\\n\\r\\r\\nThis thought occurred to me at the supermarket when, wearing my gloves, it took me so long to open each and every plastic bag! ?\\r\\r\\n\\r\\r\\n#Covid_19 \\r\\r\\n#Corona'\n",
      "  b'?This is the bus situation in my area- I went yesterday to the grocery store #coronavirus #covid19 #virus #flu #pandemic #epidemic #WHO #CDC #LockdownUSA #Military #veteran #Seattle https://t.co/cSmS0qtzTF'\n",
      "  b'Now available all GTA and SCAT buses...hand sanitizer dispensers have been installed for the safety of riders and operators. If you must travel, travel safely. #coronavirus #unitedweride https://t.co/JqNkbzJdg5']\n",
      " [b\"South Korea's #coronavirus outbreak is a lesson in early action and swift containment. https://t.co/yObzxrSU50\"\n",
      "  b'#CoronaCrisis #Covid_19 retail employees are at risk in a day like this more 2000 Customers centered a supermarket  what will happen month end? Anyway Customer is always right they can kiss you if they want'\n",
      "  b\"If we had drone delivery, we wouldn't have to go the supermarket and get infected  ?? #COVID19 #coronavirus\"\n",
      "  b'The World Gold Council said that is being affected by the globally unprecedented economic and financial market conditions as the spread of Covid 19 expands'\n",
      "  b\"?Migrant agricultural workers are the weakest actors in the food supply chain, potentially paying some of the highest prices of the #COVID19 health crisis. Their protection is EFFAT's priority. https://t.co/SEojYsgXb0 https://t.co/XGt4TQjujE\"\n",
      "  b'\"Empty supermarket shelves caused by panic buying, volunteers abandoning charities to practice social distancing, + years of govt neglect have advocates for the homeless worried about how they will manage if the virus reaches town.\" #homelessness #auspol\\r\\r\\nhttps://t.co/EuAU1Zq2VY'\n",
      "  b'COVID-19 and the Huge Battle with the Deaf &amp; Dumb\\r\\r\\n\\r\\r\\nI noticed something startling at a popular Abuja Supermarket. Old habits die-hard, they say but when such habit is dangerous and deadly to the public, then it could\\xc3\\x82\\xc2\\x85 https://t.co/Byx5YsAa5F'\n",
      "  b'The one thing I forgot to stock up on with ice cream now am I supposed to do #StayHome #stockup #GroceryWorkers #coronavirus'\n",
      "  b'So I\\'ve seen some b.s. (behind a paywall &amp; Mudrock trash) about a Supermarket worker wage freeze?\\r\\r\\nBecause of Covid-19?\\r\\r\\nOr else \"jobs will go?\"\\r\\r\\nSo let me just comment this:'\n",
      "  b'Well...I made meals for days...ate at least half of my apocalypse snacks....watched a movie and a full series on Netflix.....went shopping online, and colored my roots...now what lol...#boredathome #coronavirus #CancelEverythingNow https://t.co/lLNKK8WNWk'\n",
      "  b'Brokers, buyers, and sellers are all navigating uncertainty amid the pandemic. https://t.co/bCKeOhOykA curbedny #curbedny'\n",
      "  b\"Not getting the logic of @Coles suspending online deliveries in Australia. Doesn't that mean more people shopping in their supermarkets and spreading #coronavirus around? And what are people who can't get to supermarkets supposed to do? ? #covid19australia\"\n",
      "  b'Are you seeing ammo prices creeping up Will the Covid 19 virus scare move you to buy more'\n",
      "  b'announced on Monday that it s giving all consumer and small business customers an additional 15GB of data for free due to the 19 outbreak'\n",
      "  b'Gym Closed? Instead of driving, go for a long walk to the grocery store. Great workout for the legs and butt, but it will also work out your back, arms, shoulders while carrying grocery bags.\\r\\r\\n\\r\\r\\n#fitness #SocialDistancing #Covid_19'\n",
      "  b\"Looking back, I was pretty dumb as a teenager. I also didn't have #socialmedia to magnify my stupidity. But this right here is next level...#Covid_19 #CoronavirusPandemic #SocialDistancing #StayHome #CoronavirusOutbreak #CoronaVirusUpdates\\r\\r\\nhttps://t.co/47p8AGTF2E\"\n",
      "  b'Even though food supplies in plenty lockdown for non specific period could ignite panic buying hoarding artificial scarcity and ultimately to food inflation at large'\n",
      "  b'It\\xc3\\x82\\xc2\\x92s pretty disgusting witnessing independent shops hyper inflate prices on essential items just to make a quick buck! Hope training standards come down hard on them! #Covid_19'\n",
      "  b'@goddersbloom Our nation @goddersbloom has been ruled by greed and selfishness for the last 3 decades, today\\xc3\\x82\\xc2\\x92s supermarket shelves serve to remind ?!  Who knows, maybe this #coronavirus is a chance to build community again- open up our hearts ? and maybe'\n",
      "  b'in order to maintain business during COVID 19 has announced that they are hiring more than 10 000 new workers across the U S Positions include retail store locations division office and warehouses'\n",
      "  b'#CoronaCrisis #stopstockpiling #StopPanicBuying #coronavirus #panicshopping #panicbuyinguk #coronavirus #Covid_19 #CoronaVirusUpdate #COVID19 #SocialDistanacing\\r\\r\\n\\r\\r\\nWould the Labour party have done a better job of managing this crisis ?'\n",
      "  b'Please sign this petition to give the elderly &amp; those who are vulnerable the first hour of supermarket trading ??\\r\\r\\n\\r\\r\\nhttps://t.co/wOiWjl7dMv'\n",
      "  b'PLEASE RT THANK YOU CALL FOR DONATIONS para sa ating mga kababayang nangangailangan As we all face this crisis quarantined families in the depressed areas don t have enough stock of food for the following days or weeks As one community LET S UNITE and HELP FIGHT COVID 19'\n",
      "  b'Went to the grocery store before it opened and people were standing in line! So much for staying 6 ft away from others!#coronavirus https://t.co/YIs7O6pagx'\n",
      "  b'@petersimeti If you want to help just keep doing what you are doing. Pressure Diamond, Marvel &amp; DC into postponing release of comics until people can actually get out to buy them.'\n",
      "  b'#Supplychain disruption, demand, international #trade flows, #travel, along with #lockdowns and collapsing stock prices from #Covid_19 deal heavy blow to worldwide economy. @IHSMarkit on potential #global #recession ~ https://t.co/Bm2aSnlEyU https://t.co/YoyuQkdCk7'\n",
      "  b'How to protect yourself and your family from #coronavirus\\r\\r\\nAvoid touching your face with unwashed hands.\\r\\r\\nWash hands often and well. Use soap and water or an alcohol-based hand sanitizer.\\r\\r\\nKeep your distance from anyone who has cold or flu-like symptoms. https://t.co/sxccUiDWmm'\n",
      "  b'Not much evidence of panic buying or stockpiling here in Brussels just yet - this was my local supermarket this morning... #coronavirus https://t.co/ZyRMIRo9CQ'\n",
      "  b\"Please review the FTC's most recent information on COVID-19 scams.\\r\\r\\n\\r\\r\\nhttps://t.co/NrEflqEygD\"\n",
      "  b\"Just unfollowed some people on insta because they're boasting about hoarding toilet rolls,\\r\\r\\n#Sad ?\\r\\r\\n#STOPpanicbuying\\r\\r\\n#StopHoarding #COVID19 #Coronavirus https://t.co/ZQw1ZyHdbR\"\n",
      "  b'But in India government rose the petrol prices and platform tickets by 5 times to counter'\n",
      "  b\"All these businesses that are acting shamefully during the #CoronaCrisis: The shops jacking their prices up, the hospitality sector sacking their staff, the businesses forcing people to come to work when they don't need to etc. When this is over\\r\\r\\nwe will remember them.\"\n",
      "  b'Crowds form outside a Tesco store in Dudley in the West Midlands after it opened its doors early for NHS staff who are helping tackle the #coronavirus outbreak.\\r\\r\\n\\r\\r\\nFor more about #COVID19, click here: https://t.co/SQrLXRh1qs https://t.co/8dgI1jas1U'\n",
      "  b'Don\\xc3\\x82\\xc2\\x92t you think @HPA_MV @ibusolih these measure also to be implemented ASAP to contain #Covid_19\\r\\r\\n6. Close all PVT offices in Male\\xc3\\x82\\xc2\\x92 area except Resort Male offices.\\r\\r\\n7. Arrange to reduce the cost of raw fish as fuel prices reduced.\\r\\r\\n8. Stop all intra-island/atoll movement.\\r\\r\\n\\r\\r\\n3/4'\n",
      "  b'@EdwardRowe OK so far. Shoppers are like vultures &amp; clearing supermarket shelves. There are no supply issues, just demand issues. Hopefully the shopping situation will settle down soon. As for Covid-19, who knows. Stay safe. ??'\n",
      "  b'LWC Makes Temporary Switch To B2C Model In Reaction To #Coronavirus. LWC Drinks @LWCMcr has announced it will be temporarily switching to a Business to Consumer (B2C) model, are now accepting consumer orders to maintain business... https://t.co/8G80htmFj4 #vino #wine #COVID19 https://t.co/hrMzCOHWyh'\n",
      "  b'@BradPaisley doing even more great things during this time! Paisley and his wife Kimberly Williams-Paisley are already putting their free grocery store to good use amid the COVID-19 outbreak. https://t.co/BAXGEaE7Rj'\n",
      "  b'If this COVID-19 brings apocalypse in US, I\\xc3\\x82\\xc2\\x92m not taking a shelter in any mall, because all those malls are literally out of stock. I\\xc3\\x82\\xc2\\x92d want to be stuck with some suburban 60 something couple. They took all the food in their pantries.\\r\\r\\n#COVID2019 #CoronavirusOutbreak #coronavirus'\n",
      "  b'Is it just me or is the early morning Supermarket queue and indeed trolleys/baskets/keypads now the most likely place to catch #coronavirus #coronavirusuk #lockdownuk it\\xc3\\x82\\xc2\\x92s the inly place there are still mass gatherings....???'\n",
      "  b'#coronavirus @NHSuk #NHSheroes @UKgovcomms #COVID?19 Why can\\xc3\\x82\\xc2\\x92t the nearest mini or main  supermarket next to each Uk hospital be legally and exclusively dedicated and policed for the Hospital workers. We are faffing around with a solution for these front line life savers.'\n",
      "  b\"BOUT to HIT this GROCERY STORE since THEY talking ABOUT a MANDATORY QUARANTINE ... I REFUSED FOR awhile, BUT it's ABOUT TO get SERIOUS #COVID_19\"\n",
      "  b'Cops guard #toiletpaper aisle at a @Publix supermarket in #Florida #coronavirus #COVID19 @CNN @ABC @NBCNews @CBSNews'\n",
      "  b'#ecommerce and #consumerbehavior changes amid #COVID19 https://t.co/jjizRjaSkK https://t.co/V0gjnFF2fT'\n",
      "  b'You can still avoid stressful supermarket scenes\\xc3\\x82\\xc2\\x97and support economically vulnerable local business owners\\xc3\\x82\\xc2\\x97by spending your money at small markets instead of big-box retailers. #covid_19 https://t.co/rF17kkflJt'\n",
      "  b'If you have noticed high prices of ANY products REPORT to 0800 014 880 It has just been announced laws put into action immediately that will charge businesses and shops if found selling products INCLUDING food groceries fruit veg for higher than they were before COVID 19'\n",
      "  b'Isn t it funny that it took a global emergency for the Government to acknowledge who the UK s real key workers are NHS staff teachers supermarket workers delivery drivers'\n",
      "  b'So far the only cure for the #coronavirus is sucking my cock. So everyone should stop buying the #toiletpaper and starting sucking ?\\r\\r\\nCheck out this video where you can see @BbwSofiaRose staying safe with my cock in her mouth. \\r\\r\\n\\r\\r\\n#CoronavirusPandemic #Covid_19 #CoronaVirusUpdate'\n",
      "  b'Coronavirus has stripped our supermarket shelves and our reason It s time to impose some common sense says'\n",
      "  b'Feeding Frenzy In one day demand doubled at the Family Intercultural Resource Center food bank in Summit County Ski areas and many business closed to slow the spread of COVID 19 so demand is expected to grow People can help by donating online to their local food bank'\n",
      "  b\"I look forward to the day when my fellow Australians come to terms with the mind blow of #Covid_19australia\\r\\r\\n#coronavirusaustralia and go back to normal shopping. \\r\\r\\n'$7 for lettuce is ridiculous': Fruit and veg prices skyrocket amid COVID-19 panic buying\\r\\r\\nhttps://t.co/Fp7fACphQN\"\n",
      "  b'#Covid_19 Government still in denial about fair availability of food to customers in the supermarket. Or are they hiding a food production and distribution problem. Enforce rationing or food riots, looting and theft of vehicles carrying food will surely happen. WAKE UP'\n",
      "  b\"? @BradPaisley &amp; @Kimwilliamspais' \\xc3\\x82\\xc2\\x93Free Grocery Store\\xc3\\x82\\xc2\\x94 in Nashville Now Serving the Area With Delivery to Elderly. The Store Opened Ahead of Schedule to Serve Those Affected by the COVID-19 Outbreak &amp; Tornado Devastation in Middle TN. This Is Amazing! https://t.co/6NWxvYnFkH\"\n",
      "  b'Running to the supermarket has now become a public gathering and many stores are out of some of the essentials needed to keep COVID-19 at bay. Still need sanitization products? Order online! We\\xc3\\x82\\xc2\\x92ll do the rest! \\r\\r\\n#staysafe #ContainCOVID19 #JPAK #ShippingtoJA #OnlineShopping #lysol https://t.co/tDr5wVLsig'\n",
      "  b'The undervalued heroes of this Coronavirus crisis ...\\r\\r\\n\\r\\r\\n\\xc3\\x82\\xc2\\x93Cleaners and supermarket workers are on the frontline. When this is over, let\\xc3\\x82\\xc2\\x92s fight for the wages and conditions they deserve.\\xc3\\x82\\xc2\\x94\\r\\r\\n\\r\\r\\nOwen Jones\\r\\r\\nThe Guardian \\r\\r\\n21/03/20 #Covid_19 #CoronaCrisisuk \\r\\r\\n\\r\\r\\nhttps://t.co/xGSHEieYMI'\n",
      "  b\"In Spain, if you leave your house without a valid reason ie to get food, Supermarket or pharmacy, there's a \\xc3\\x82\\xc2\\x80600 fine PER PERSON\\r\\r\\n\\r\\r\\n#CoronaCrisis #Covid_19\"\n",
      "  b'Why are the lines in the supermarket so long?! Is there an update to the covid-19 situation i am unaware of?'\n",
      "  b'@Walgreens as an employee I had an idea to help better protect all customers &amp; employees. Is there a way to do drive-thru only for pharmacy and those without internet access &amp; online shopping with curbside pickup. This limits contact therefore les'\n",
      "  b'someone close to my family tested positive for COVID 19 all she did was go to the grocery store Stay your ass home bruh like stop being fucking stupid Who tf cares if you wanna be out in the streets'\n",
      "  b'gov warns of scammers exploiting to sell fraudulent products or steal personal data See their info Report a'\n",
      "  b'While \\xc3\\x82\\xc2\\x93pAniC bUyiNg\\xc3\\x82\\xc2\\x94 at the local grocery earlier, \\xc3\\x82\\xc2\\x91Heal the World\\xc3\\x82\\xc2\\x92 and Worship songs were on the supermarket\\xc3\\x82\\xc2\\x92s playlist and Ghaad i was kinda re-evaluating my whole life during this crisis ?? hayss COVID-19'\n",
      "  b'Hey @IvankaTrump.  While you\\xc3\\x82\\xc2\\x92re partying with the kids in your living room, the rest of us are waiting in line to GET INTO THE GROCERY STORE.  Give Jared and Dad a kiss from us for fucking this up so royally.  #coronavirus https://t.co/xASE2O8kaE'\n",
      "  b'America when you go to the grocery store, #Target, #Walmart, #Costco or any business that is open. PLEASE SAY THANK YOU ? to the employees who are working and making it possible for us to have what we need. They are putting their lives in harm for us. #Covid_19 @nypost #NYC'\n",
      "  b'Not only has the Corona outbreak brought the global economy to a screeching halt but it also has skyrocketed the prices of basic perishable goods.\\r\\r\\n#CoronaVirus #Paracetamol #PriceHike https://t.co/GDAOxHdaju via @gosschips'\n",
      "  b'So panic buying of soaps and toilet roll was bad enough, now the idiots are stockpiling alcohol ? whats wrong with people #CoronaVirus #StopPanicBuying #Covid_19']]\n",
      "\n",
      "labels:  [[3 3 0 3 2 3 4 3 0 1 4 3 3 4 2 3 1 4 2 2 0 3 1 2 3 1 3 1 4 4 3 3 1 3 3 3\n",
      "  0 1 0 1 4 3 3 3 3 3 4 2 2 1 4 4 1 4 3 1 1 1 4 0 4 2 3 1]\n",
      " [1 1 4 3 3 1 3 1 2 0 2 4 1 3 1 1 4 1 2 3 4 0 0 1 0 0 1 0 2 4 1 1 3 2 3 2\n",
      "  4 2 2 3 3 1 2 3 1 3 0 1 3 3 3 1 1 3 2 0 0 4 4 2 4 4 2 4]\n",
      " [3 3 1 1 0 0 0 2 3 3 1 2 1 4 3 1 1 3 1 2 1 3 1 2 4 0 4 1 1 2 2 1 3 1 4 3\n",
      "  4 1 2 4 1 2 2 1 2 3 1 1 1 0 1 3 2 1 3 1 4 1 0 0 4 3 2 0]]\n"
     ]
    },
    {
     "name": "stderr",
     "output_type": "stream",
     "text": [
      "2023-07-17 21:07:10.106501: I tensorflow/core/common_runtime/executor.cc:1197] [/device:CPU:0] (DEBUG INFO) Executor start aborting (this does not indicate an error and you can ignore this message): INVALID_ARGUMENT: You must feed a value for placeholder tensor 'Placeholder/_0' with dtype string and shape [32925]\n",
      "\t [[{{node Placeholder/_0}}]]\n",
      "2023-07-17 21:07:10.106883: I tensorflow/core/common_runtime/executor.cc:1197] [/device:CPU:0] (DEBUG INFO) Executor start aborting (this does not indicate an error and you can ignore this message): INVALID_ARGUMENT: You must feed a value for placeholder tensor 'Placeholder/_0' with dtype string and shape [32925]\n",
      "\t [[{{node Placeholder/_0}}]]\n"
     ]
    }
   ],
   "source": [
    "BUFFER_SIZE = 10000\n",
    "BATCH_SIZE = 64\n",
    "\n",
    "train_dataset = train_dataset.shuffle(BUFFER_SIZE).batch(BATCH_SIZE).prefetch(tf.data.AUTOTUNE)\n",
    "#test_dataset = test_dataset.batch(BATCH_SIZE).prefetch(tf.data.AUTOTUNE)\n",
    "\n",
    "\n",
    "for example, label in train_dataset.take(1):\n",
    "    print('texts: ', example.numpy()[:3])\n",
    "    print()\n",
    "    print('labels: ', label.numpy()[:3])\n",
    "\n",
    "\n",
    "    \n"
   ]
  },
  {
   "cell_type": "code",
   "execution_count": null,
   "id": "c846fc44",
   "metadata": {},
   "outputs": [],
   "source": []
  }
 ],
 "metadata": {
  "kernelspec": {
   "display_name": "Python 3 (ipykernel)",
   "language": "python",
   "name": "python3"
  },
  "language_info": {
   "codemirror_mode": {
    "name": "ipython",
    "version": 3
   },
   "file_extension": ".py",
   "mimetype": "text/x-python",
   "name": "python",
   "nbconvert_exporter": "python",
   "pygments_lexer": "ipython3",
   "version": "3.10.6"
  }
 },
 "nbformat": 4,
 "nbformat_minor": 5
}
